{
 "cells": [
  {
   "cell_type": "code",
   "execution_count": 1,
   "metadata": {},
   "outputs": [],
   "source": [
    "import numpy as np\n",
    "import pandas as pd\n",
    "import matplotlib.pyplot as plt\n",
    "import seaborn as sns\n",
    "sns.set_style(\"darkgrid\")\n",
    "import itertools\n",
    "from copy import deepcopy\n",
    "from abc import ABC, abstractmethod\n",
    "from scipy.stats import multivariate_normal as mvn\n",
    "from scipy.stats import norm"
   ]
  },
  {
   "cell_type": "markdown",
   "metadata": {},
   "source": [
    "# Classes"
   ]
  },
  {
   "cell_type": "markdown",
   "metadata": {},
   "source": [
    "### Static Data"
   ]
  },
  {
   "cell_type": "code",
   "execution_count": 2,
   "metadata": {},
   "outputs": [],
   "source": [
    "class TransitionMatrix:\n",
    "    \n",
    "    def __init__(self, transition_matrix: pd.DataFrame, horizon: float):\n",
    "        self.transition_matrix = transition_matrix\n",
    "        self.horizon = horizon\n",
    "        self.__check_input_matrix()\n",
    "        \n",
    "    def __check_input_matrix(self):\n",
    "        ratings = ['AAA', 'AA', 'A', 'BBB', 'BB', 'B', 'CCC', 'Default']\n",
    "        if list(self.transition_matrix.index) != ratings:\n",
    "            raise ValueError('The input transition_matrix is not composed of the allowed rating (index): ' + str(ratings))\n",
    "        if list(self.transition_matrix.columns) != ratings:\n",
    "            raise ValueError('The input transition_matrix is not composed of the allowed rating (columns): ' + str(ratings))\n",
    "    \n",
    "    def get_transition_probability(self, initial_rating: str, new_rating: str):\n",
    "        return self.transition_matrix.loc[initial_rating, new_rating]\n",
    "    "
   ]
  },
  {
   "cell_type": "markdown",
   "metadata": {},
   "source": [
    "### Market Data"
   ]
  },
  {
   "cell_type": "code",
   "execution_count": 3,
   "metadata": {},
   "outputs": [],
   "source": [
    "class InterestRateCurve:\n",
    "    \n",
    "    def __init__(self, name:str, curve: np.ndarray, maturities: np.ndarray):\n",
    "        self.name = name\n",
    "        self.curve = curve\n",
    "        self.maturities = maturities\n",
    "    \n",
    "    def get_rate(self, maturity: int):\n",
    "        if maturity == 0:\n",
    "            raise ValueError('The maturity has to be above 0.')\n",
    "        rate = self.curve[maturity-1]\n",
    "        return rate\n",
    "    "
   ]
  },
  {
   "cell_type": "code",
   "execution_count": 4,
   "metadata": {},
   "outputs": [],
   "source": [
    "class Market:\n",
    "    \n",
    "    def __init__(self, list_market_data: list):\n",
    "        self.list_market_data = list_market_data\n",
    "        \n",
    "    def get_market_data(self, id_market_data: str):\n",
    "        for market_data in self.list_market_data:\n",
    "            if market_data.name==id_market_data:\n",
    "                return market_data\n",
    "        raise ValueError(\"The id_market_data \" + str(id_market_data) + \" is not in the Market.\")\n"
   ]
  },
  {
   "cell_type": "markdown",
   "metadata": {},
   "source": [
    "### Bonds"
   ]
  },
  {
   "cell_type": "code",
   "execution_count": 5,
   "metadata": {},
   "outputs": [],
   "source": [
    "class Bond:\n",
    "    \n",
    "    def __init__(self, rating: str, nominal: float, coupon_rate: float, maturity: int, recovery_rate: float):\n",
    "        self.rating = rating\n",
    "        self.nominal = nominal\n",
    "        self.coupon_rate = coupon_rate\n",
    "        self.maturity = maturity\n",
    "        self.recovery_rate = recovery_rate\n",
    "        "
   ]
  },
  {
   "cell_type": "code",
   "execution_count": 6,
   "metadata": {},
   "outputs": [],
   "source": [
    "class BondValuationModel(ABC):\n",
    "    \n",
    "    @abstractmethod\n",
    "    def price(self):\n",
    "        pass"
   ]
  },
  {
   "cell_type": "code",
   "execution_count": 7,
   "metadata": {},
   "outputs": [],
   "source": [
    "class BondVanillaValuationModel(BondValuationModel):\n",
    "    \n",
    "    def price(self, bond: Bond, ir_curve: InterestRateCurve):\n",
    "        if bond.rating == 'Default':\n",
    "            return self.__price_defaulted_bond(bond)\n",
    "        coupon_value = bond.nominal * bond.coupon_rate\n",
    "        market_value = 0\n",
    "        for i in range(bond.maturity):\n",
    "            market_value += coupon_value / (1 + ir_curve.get_rate(i+1)) ** (i+1)\n",
    "        market_value += bond.nominal / (1 + ir_curve.get_rate(bond.maturity)) ** bond.maturity\n",
    "        return market_value\n",
    "    \n",
    "    def __price_defaulted_bond(self, bond: Bond):\n",
    "        if bond.recovery_rate >= 0:\n",
    "            return bond.recovery_rate * bond.nominal\n",
    "        else:\n",
    "            return 0.0"
   ]
  },
  {
   "cell_type": "code",
   "execution_count": 8,
   "metadata": {},
   "outputs": [],
   "source": [
    "model = BondVanillaValuationModel()"
   ]
  },
  {
   "cell_type": "markdown",
   "metadata": {},
   "source": [
    "### Portfolio"
   ]
  },
  {
   "cell_type": "code",
   "execution_count": 9,
   "metadata": {},
   "outputs": [],
   "source": [
    "class Portfolio:\n",
    "    \n",
    "    def __init__(self, list_derivatives: list):\n",
    "        self.list_derivatives = list_derivatives\n",
    "        "
   ]
  },
  {
   "cell_type": "markdown",
   "metadata": {},
   "source": [
    "# Exercice 1 - Credit Value at Risk with independance"
   ]
  },
  {
   "cell_type": "markdown",
   "metadata": {},
   "source": [
    "Please consider a portfolio of two bonds:\n",
    "* Rating A with nominal 100, 5% interest rate, 3Y maturity and 45% recovery rate\n",
    "* Rating BBB with nominal 100, 6% interest rate, 5Y maturity and 45% recovery rate\n",
    "\n",
    "The aim of this exercice is to compute the Credit Value at Risk, given a forward market and a transition matrix (independant transitions)."
   ]
  },
  {
   "cell_type": "markdown",
   "metadata": {},
   "source": [
    "### Transition matrix"
   ]
  },
  {
   "cell_type": "code",
   "execution_count": 10,
   "metadata": {},
   "outputs": [],
   "source": [
    "ratings = ['AAA', 'AA', 'A', 'BBB', 'BB', 'B', 'CCC', 'Default']\n",
    "\n",
    "df_transition_exercice_1 = pd.DataFrame(index=ratings, columns=ratings)\n",
    "df_transition_exercice_1['AAA'] = [90.81, 0.70, 0.09, 0.02, 0.03, 0.00, 0.22, 0.00]\n",
    "df_transition_exercice_1['AA'] = [8.33, 90.65, 2.27, 0.33, 0.14, 0.11, 0.00, 0.00]\n",
    "df_transition_exercice_1['A'] = [0.68, 7.79, 91.05, 5.95, 0.67, 0.24, 0.22, 0.00]\n",
    "df_transition_exercice_1['BBB'] = [0.06, 0.64, 5.52, 86.93, 7.73, 0.43, 1.30, 0.00]\n",
    "df_transition_exercice_1['BB'] = [0.12, 0.06, 0.74, 5.30, 80.53, 6.48, 2.38, 0.00]\n",
    "df_transition_exercice_1['B'] = [0.00, 0.14, 0.26, 1.17, 8.84, 83.46, 11.24, 0.00]\n",
    "df_transition_exercice_1['CCC'] = [0.00, 0.02, 0.01, 0.12, 1.00, 4.07, 64.86, 0.00]\n",
    "df_transition_exercice_1['Default'] = [0.00, 0.00, 0.06, 0.18, 1.06, 5.20, 19.79, 100.00]"
   ]
  },
  {
   "cell_type": "code",
   "execution_count": 11,
   "metadata": {},
   "outputs": [
    {
     "name": "stdout",
     "output_type": "stream",
     "text": [
      "First, we can verify that the sum of the transition probabilities is 1.0:\n",
      "\n",
      "AAA        100.00\n",
      "AA         100.00\n",
      "A          100.00\n",
      "BBB        100.00\n",
      "BB         100.00\n",
      "B           99.99\n",
      "CCC        100.01\n",
      "Default    100.00\n",
      "dtype: float64\n",
      "\n",
      "\n",
      "Transition Probabilities :\n",
      "\n"
     ]
    },
    {
     "data": {
      "text/html": [
       "<div>\n",
       "<style scoped>\n",
       "    .dataframe tbody tr th:only-of-type {\n",
       "        vertical-align: middle;\n",
       "    }\n",
       "\n",
       "    .dataframe tbody tr th {\n",
       "        vertical-align: top;\n",
       "    }\n",
       "\n",
       "    .dataframe thead th {\n",
       "        text-align: right;\n",
       "    }\n",
       "</style>\n",
       "<table border=\"1\" class=\"dataframe\">\n",
       "  <thead>\n",
       "    <tr style=\"text-align: right;\">\n",
       "      <th></th>\n",
       "      <th>AAA</th>\n",
       "      <th>AA</th>\n",
       "      <th>A</th>\n",
       "      <th>BBB</th>\n",
       "      <th>BB</th>\n",
       "      <th>B</th>\n",
       "      <th>CCC</th>\n",
       "      <th>Default</th>\n",
       "    </tr>\n",
       "  </thead>\n",
       "  <tbody>\n",
       "    <tr>\n",
       "      <th>AAA</th>\n",
       "      <td>90.81</td>\n",
       "      <td>8.33</td>\n",
       "      <td>0.68</td>\n",
       "      <td>0.06</td>\n",
       "      <td>0.12</td>\n",
       "      <td>0.00</td>\n",
       "      <td>0.00</td>\n",
       "      <td>0.00</td>\n",
       "    </tr>\n",
       "    <tr>\n",
       "      <th>AA</th>\n",
       "      <td>0.70</td>\n",
       "      <td>90.65</td>\n",
       "      <td>7.79</td>\n",
       "      <td>0.64</td>\n",
       "      <td>0.06</td>\n",
       "      <td>0.14</td>\n",
       "      <td>0.02</td>\n",
       "      <td>0.00</td>\n",
       "    </tr>\n",
       "    <tr>\n",
       "      <th>A</th>\n",
       "      <td>0.09</td>\n",
       "      <td>2.27</td>\n",
       "      <td>91.05</td>\n",
       "      <td>5.52</td>\n",
       "      <td>0.74</td>\n",
       "      <td>0.26</td>\n",
       "      <td>0.01</td>\n",
       "      <td>0.06</td>\n",
       "    </tr>\n",
       "    <tr>\n",
       "      <th>BBB</th>\n",
       "      <td>0.02</td>\n",
       "      <td>0.33</td>\n",
       "      <td>5.95</td>\n",
       "      <td>86.93</td>\n",
       "      <td>5.30</td>\n",
       "      <td>1.17</td>\n",
       "      <td>0.12</td>\n",
       "      <td>0.18</td>\n",
       "    </tr>\n",
       "    <tr>\n",
       "      <th>BB</th>\n",
       "      <td>0.03</td>\n",
       "      <td>0.14</td>\n",
       "      <td>0.67</td>\n",
       "      <td>7.73</td>\n",
       "      <td>80.53</td>\n",
       "      <td>8.84</td>\n",
       "      <td>1.00</td>\n",
       "      <td>1.06</td>\n",
       "    </tr>\n",
       "    <tr>\n",
       "      <th>B</th>\n",
       "      <td>0.00</td>\n",
       "      <td>0.11</td>\n",
       "      <td>0.24</td>\n",
       "      <td>0.43</td>\n",
       "      <td>6.48</td>\n",
       "      <td>83.46</td>\n",
       "      <td>4.07</td>\n",
       "      <td>5.20</td>\n",
       "    </tr>\n",
       "    <tr>\n",
       "      <th>CCC</th>\n",
       "      <td>0.22</td>\n",
       "      <td>0.00</td>\n",
       "      <td>0.22</td>\n",
       "      <td>1.30</td>\n",
       "      <td>2.38</td>\n",
       "      <td>11.24</td>\n",
       "      <td>64.86</td>\n",
       "      <td>19.79</td>\n",
       "    </tr>\n",
       "    <tr>\n",
       "      <th>Default</th>\n",
       "      <td>0.00</td>\n",
       "      <td>0.00</td>\n",
       "      <td>0.00</td>\n",
       "      <td>0.00</td>\n",
       "      <td>0.00</td>\n",
       "      <td>0.00</td>\n",
       "      <td>0.00</td>\n",
       "      <td>100.00</td>\n",
       "    </tr>\n",
       "  </tbody>\n",
       "</table>\n",
       "</div>"
      ],
      "text/plain": [
       "           AAA     AA      A    BBB     BB      B    CCC  Default\n",
       "AAA      90.81   8.33   0.68   0.06   0.12   0.00   0.00     0.00\n",
       "AA        0.70  90.65   7.79   0.64   0.06   0.14   0.02     0.00\n",
       "A         0.09   2.27  91.05   5.52   0.74   0.26   0.01     0.06\n",
       "BBB       0.02   0.33   5.95  86.93   5.30   1.17   0.12     0.18\n",
       "BB        0.03   0.14   0.67   7.73  80.53   8.84   1.00     1.06\n",
       "B         0.00   0.11   0.24   0.43   6.48  83.46   4.07     5.20\n",
       "CCC       0.22   0.00   0.22   1.30   2.38  11.24  64.86    19.79\n",
       "Default   0.00   0.00   0.00   0.00   0.00   0.00   0.00   100.00"
      ]
     },
     "execution_count": 11,
     "metadata": {},
     "output_type": "execute_result"
    }
   ],
   "source": [
    "print('First, we can verify that the sum of the transition probabilities is 1.0:')\n",
    "print()\n",
    "print(df_transition_exercice_1.sum(axis=1))\n",
    "print()\n",
    "print()\n",
    "print('Transition Probabilities :')\n",
    "print()\n",
    "df_transition_exercice_1"
   ]
  },
  {
   "cell_type": "code",
   "execution_count": 12,
   "metadata": {},
   "outputs": [],
   "source": [
    "transition_matrix_1_y_exercice_1 = TransitionMatrix(df_transition_exercice_1, 1)"
   ]
  },
  {
   "cell_type": "code",
   "execution_count": 13,
   "metadata": {},
   "outputs": [
    {
     "data": {
      "text/plain": [
       "91.05"
      ]
     },
     "execution_count": 13,
     "metadata": {},
     "output_type": "execute_result"
    }
   ],
   "source": [
    "transition_matrix_1_y_exercice_1.get_transition_probability(initial_rating='A', new_rating='A')"
   ]
  },
  {
   "cell_type": "markdown",
   "metadata": {},
   "source": [
    "### Market data"
   ]
  },
  {
   "cell_type": "code",
   "execution_count": 14,
   "metadata": {},
   "outputs": [],
   "source": [
    "maturities = np.array([1, 2, 3, 4])\n",
    "\n",
    "aaa_rates = np.array([0.0360, 0.0417, 0.0473, 0.0512])\n",
    "aaa_ir_curve = InterestRateCurve(name='AAA', curve=aaa_rates, maturities=maturities)\n",
    "\n",
    "aa_rates = np.array([0.0365, 0.0422, 0.0478, 0.0517])\n",
    "aa_ir_curve = InterestRateCurve(name='AA', curve=aa_rates, maturities=maturities)\n",
    "\n",
    "a_rates = np.array([0.0372, 0.0432, 0.0493, 0.0532])\n",
    "a_ir_curve = InterestRateCurve(name='A', curve=a_rates, maturities=maturities)\n",
    "\n",
    "bbb_rates = np.array([0.0410, 0.0467, 0.0525, 0.0563])\n",
    "bbb_ir_curve = InterestRateCurve(name='BBB', curve=bbb_rates, maturities=maturities)\n",
    "\n",
    "bb_rates = np.array([0.0555, 0.0602, 0.0678, 0.0727])\n",
    "bb_ir_curve = InterestRateCurve(name='BB', curve=bb_rates, maturities=maturities)\n",
    "\n",
    "b_rates = np.array([0.0605, 0.0702, 0.0803, 0.0852])\n",
    "b_ir_curve = InterestRateCurve(name='B', curve=b_rates, maturities=maturities)\n",
    "\n",
    "ccc_rates = np.array([0.1505, 0.1502, 0.1403, 0.1352])\n",
    "ccc_ir_curve = InterestRateCurve(name='CCC', curve=ccc_rates, maturities=maturities)\n",
    "\n",
    "default_rates = np.array([])\n",
    "default_ir_curve = InterestRateCurve(name='Default', curve=default_rates, maturities=maturities)"
   ]
  },
  {
   "cell_type": "code",
   "execution_count": 15,
   "metadata": {},
   "outputs": [],
   "source": [
    "forward_market_exercice_1 = Market([aaa_ir_curve, aa_ir_curve, a_ir_curve, bbb_ir_curve, bb_ir_curve, b_ir_curve, ccc_ir_curve, default_ir_curve])"
   ]
  },
  {
   "cell_type": "code",
   "execution_count": 16,
   "metadata": {},
   "outputs": [
    {
     "data": {
      "text/plain": [
       "0.0432"
      ]
     },
     "execution_count": 16,
     "metadata": {},
     "output_type": "execute_result"
    }
   ],
   "source": [
    "forward_market_exercice_1.get_market_data('A').get_rate(maturity=2)"
   ]
  },
  {
   "cell_type": "markdown",
   "metadata": {},
   "source": [
    "### Portfolio"
   ]
  },
  {
   "cell_type": "code",
   "execution_count": 17,
   "metadata": {},
   "outputs": [],
   "source": [
    "bond_1 = Bond(rating='A', nominal=100, coupon_rate=0.05, maturity=3, recovery_rate=0.45)\n",
    "bond_2 = Bond(rating='BBB', nominal=100, coupon_rate=0.06, maturity=5, recovery_rate=0.45)\n",
    "portfolio_exercice_1 = Portfolio(list_derivatives=[bond_1, bond_2])"
   ]
  },
  {
   "cell_type": "code",
   "execution_count": 18,
   "metadata": {},
   "outputs": [
    {
     "name": "stdout",
     "output_type": "stream",
     "text": [
      "With first coupon\n",
      "Bond_1: 106.30441383916988\n",
      "Bond_2: 107.53094386580608\n",
      "\n",
      "Without first coupon\n",
      "Bond_1: 101.30441383916988\n",
      "Bond_2: 101.53094386580608\n"
     ]
    }
   ],
   "source": [
    "# Tests pricing\n",
    "\n",
    "# We simulate the one year horizon of the VaR, by adding the coupons\n",
    "bond_test_1 = Bond(rating='A', nominal=100, coupon_rate=0.05, maturity=2, recovery_rate=0.45)\n",
    "bond_test_2 = Bond(rating='BBB', nominal=100, coupon_rate=0.06, maturity=4, recovery_rate=0.45)\n",
    "print('With first coupon')\n",
    "print('Bond_1:', model.price(bond_test_1, forward_market_exercice_1.get_market_data(bond_test_1.rating)) + bond_test_1.coupon_rate*bond_test_1.nominal)\n",
    "print('Bond_2:', model.price(bond_test_2, forward_market_exercice_1.get_market_data(bond_test_2.rating)) + bond_test_2.coupon_rate*bond_test_2.nominal)\n",
    "print()\n",
    "print('Without first coupon')\n",
    "print('Bond_1:', model.price(bond_test_1, forward_market_exercice_1.get_market_data(bond_test_1.rating)))\n",
    "print('Bond_2:', model.price(bond_test_2, forward_market_exercice_1.get_market_data(bond_test_2.rating)))"
   ]
  },
  {
   "cell_type": "markdown",
   "metadata": {},
   "source": [
    "### Credit Value at Risk"
   ]
  },
  {
   "cell_type": "code",
   "execution_count": 19,
   "metadata": {},
   "outputs": [],
   "source": [
    "class CreditVarEngineExercie1:\n",
    "    \n",
    "    def __init__(self):\n",
    "        self.rating = ['AAA', 'AA', 'A', 'BBB', 'BB', 'B', 'CCC', 'Default']\n",
    "    \n",
    "    def compute(self, portfolio: Portfolio, transition_matrix: TransitionMatrix, model: BondValuationModel, forward_market: Market, horizon: int, probability: float):\n",
    "        portfolio = self.update_maturity(portfolio, horizon)\n",
    "        scenarios = self.generate_scenarios(portfolio)\n",
    "        scenarios_valuations = self.valuate_scenarios(scenarios, model, forward_market, horizon, portfolio)\n",
    "        scenarios_probabilities = self.compute_scenario_probabilities(portfolio, scenarios, transition_matrix)\n",
    "        return self.evaluate_credit_var(scenarios_valuations, scenarios_probabilities, probability)\n",
    "    \n",
    "    def update_maturity(self, portfolio: Portfolio, horizon: int):\n",
    "        portfolio_temp = deepcopy(portfolio)\n",
    "        for bond in portfolio_temp.list_derivatives:\n",
    "            bond.maturity -= horizon\n",
    "        return portfolio_temp\n",
    "    \n",
    "    \n",
    "    # Scenarios generation\n",
    "    \n",
    "    def generate_scenarios(self, portfolio: Portfolio):\n",
    "        list_possible_rating = self.__generate_grid(portfolio)\n",
    "        return self.__generate_list_portfolios(list_possible_rating, portfolio)\n",
    "        \n",
    "    def __generate_grid(self, portfolio: Portfolio):\n",
    "        list_possible_rating = []\n",
    "        for bond in portfolio.list_derivatives:\n",
    "            list_possible_rating.append(deepcopy(self.rating))\n",
    "        return list(itertools.product(*list_possible_rating))\n",
    "        \n",
    "    def __generate_list_portfolios(self, list_possible_rating: list, portfolio: Portfolio):\n",
    "        scenarios = []\n",
    "        for scenario in list_possible_rating:\n",
    "            scenarios.append(self.__create_portfolio_scenario(scenario, portfolio))\n",
    "        return scenarios\n",
    "            \n",
    "    def __create_portfolio_scenario(self, ratings_scenario: list, portfolio: Portfolio):\n",
    "        portfolio_temp = deepcopy(portfolio)\n",
    "        for i in range(len(ratings_scenario)):\n",
    "            portfolio_temp.list_derivatives[i].rating = ratings_scenario[i]\n",
    "        return portfolio_temp\n",
    "    \n",
    "    \n",
    "    # Scenarios valuation - naive approach\n",
    "    \n",
    "    def valuate_scenarios(self, scenarios: list, model: BondValuationModel, market: Market, horizon: int, portfolio: Portfolio):\n",
    "        cash_flows = self.__compute_cash_flows(portfolio, horizon)\n",
    "        valuations = []\n",
    "        for scena in scenarios:\n",
    "            valuations.append(self.__valuate_one_scenario(portfolio=scena, model=model, market=market) + cash_flows)\n",
    "        return valuations\n",
    "            \n",
    "    def __valuate_one_scenario(self, portfolio: Portfolio, model: BondValuationModel, market: Market):\n",
    "        value = 0.0\n",
    "        for bond in portfolio.list_derivatives:\n",
    "            value += model.price(bond, market.get_market_data(bond.rating))\n",
    "        return value\n",
    "    \n",
    "    def __compute_cash_flows(self, portfolio: Portfolio, horizon: int):\n",
    "        cash = 0.0\n",
    "        for bond in portfolio.list_derivatives:\n",
    "            cash += bond.coupon_rate * bond.nominal * horizon\n",
    "        return cash\n",
    "    \n",
    "    \n",
    "    # Scenarios probability\n",
    "    \n",
    "    def compute_scenario_probabilities(self, portfolio: Portfolio, scenarios: list, transition_matrix: TransitionMatrix):\n",
    "        scenario_probabilities = []\n",
    "        for scena in scenarios:\n",
    "            scenario_probabilities.append(self.__compute_one_scenario_probability(scena, portfolio, transition_matrix))\n",
    "        return scenario_probabilities\n",
    "            \n",
    "    def __compute_one_scenario_probability(self, portfolio_scenario: Portfolio, portfolio_initial: Portfolio, transition_matrix: TransitionMatrix):\n",
    "        probability = 1.0\n",
    "        for i in range(len(portfolio_scenario.list_derivatives)):\n",
    "            probability *= transition_matrix.get_transition_probability(portfolio_initial.list_derivatives[i].rating, portfolio_scenario.list_derivatives[i].rating)/100\n",
    "        return probability\n",
    "    \n",
    "    \n",
    "    # Credit Value at Risk computation\n",
    "    \n",
    "    def evaluate_credit_var(self, scenarios_values: list, scenarios_probabilities: list, percentage_var: float):\n",
    "        expectation = self.compute_expectation(scenarios_values, scenarios_probabilities)\n",
    "        quantile = self.compute_quantile(scenarios_values, scenarios_probabilities, percentage_var)\n",
    "        return expectation - quantile\n",
    "    \n",
    "    def compute_quantile(self, scenarios_values: list, scenarios_probabilities: list, percentage_var: float):\n",
    "        # For more infos: https://www.kite.com/python/answers/how-to-sort-two-lists-together-in-python\n",
    "        zipped_lists = zip(scenarios_values, scenarios_probabilities)\n",
    "        sorted_pairs = sorted(zipped_lists)\n",
    "        tuples = zip(*sorted_pairs)\n",
    "        scenarios_values, scenarios_probabilities = [list(tuple_) for tuple_ in  tuples]\n",
    "        sum_proba = 0.0\n",
    "        for i in range(len(scenarios_probabilities)):\n",
    "            sum_proba += scenarios_probabilities[i]\n",
    "            if sum_proba > (1.0-percentage_var):\n",
    "                return scenarios_values[i]\n",
    "        raise ValueError('The sum of the scenarios_probabilities is below 1.0')\n",
    "    \n",
    "    def compute_expectation(self, scenarios_values: list, scenarios_probabilities: list):\n",
    "        expectation = 0.0\n",
    "        for i in range(len(scenarios_values)):\n",
    "            expectation += scenarios_values[i] * scenarios_probabilities[i]\n",
    "        return expectation\n",
    "    \n",
    "    def compute_standard_deviation(self, scenarios_values: list, scenarios_probabilities: list):\n",
    "        expectation = self.compute_expectation(scenarios_values, scenarios_probabilities)\n",
    "        variance = 0.0\n",
    "        for i in range(len(scenarios_values)):\n",
    "            variance += scenarios_probabilities[i] * (scenarios_values[i]-expectation)** 2 \n",
    "        return np.sqrt(variance)\n",
    "    \n",
    "    def compute_proxy_credit_var(self, scenarios_values: list, scenarios_probabilities: list, percentage_var: float):\n",
    "        return norm.ppf(percentage_var) * self.compute_standard_deviation(scenarios_values, scenarios_probabilities)"
   ]
  },
  {
   "cell_type": "code",
   "execution_count": 20,
   "metadata": {},
   "outputs": [],
   "source": [
    "var_engine_exercice_1 = CreditVarEngineExercie1()"
   ]
  },
  {
   "cell_type": "code",
   "execution_count": 21,
   "metadata": {},
   "outputs": [
    {
     "data": {
      "text/plain": [
       "8.879585724939432"
      ]
     },
     "execution_count": 21,
     "metadata": {},
     "output_type": "execute_result"
    }
   ],
   "source": [
    "var_engine_exercice_1.compute(portfolio=portfolio_exercice_1, \n",
    "                              transition_matrix=transition_matrix_1_y_exercice_1, \n",
    "                              model=model, \n",
    "                              forward_market=forward_market_exercice_1, \n",
    "                              horizon=1, \n",
    "                              probability=0.99)"
   ]
  },
  {
   "cell_type": "code",
   "execution_count": 22,
   "metadata": {},
   "outputs": [],
   "source": [
    "# Details\n",
    "portfolio_temp_exercice_1 = var_engine_exercice_1.update_maturity(portfolio_exercice_1, 1)\n",
    "scenarios_exercice_1 = var_engine_exercice_1.generate_scenarios(portfolio_temp_exercice_1)\n",
    "scenarios_values_exercice_1 = var_engine_exercice_1.valuate_scenarios(scenarios=scenarios_exercice_1, \n",
    "                                                                      model=model, \n",
    "                                                                      horizon=1, \n",
    "                                                                      market=forward_market_exercice_1, \n",
    "                                                                      portfolio=portfolio_temp_exercice_1)\n",
    "scenario_probability_exercice_1 = var_engine_exercice_1.compute_scenario_probabilities(portfolio_temp_exercice_1, \n",
    "                                                                                       scenarios_exercice_1, \n",
    "                                                                                       transition_matrix_1_y_exercice_1)\n",
    "expectation_exercice_1 = var_engine_exercice_1.compute_expectation(scenarios_values_exercice_1, scenario_probability_exercice_1)\n",
    "standard_dev_exercice_1 = var_engine_exercice_1.compute_standard_deviation(scenarios_values_exercice_1, scenario_probability_exercice_1)\n",
    "quantile_99_exercice_1 = var_engine_exercice_1.compute_quantile(scenarios_values_exercice_1, scenario_probability_exercice_1, 0.99)\n",
    "credit_var_exercice_1 = var_engine_exercice_1.evaluate_credit_var(scenarios_values_exercice_1, scenario_probability_exercice_1, 0.99)\n",
    "proxy_credit_var_exercice_1 = var_engine_exercice_1.compute_proxy_credit_var(scenarios_values_exercice_1, scenario_probability_exercice_1, 0.99)"
   ]
  },
  {
   "cell_type": "code",
   "execution_count": 23,
   "metadata": {},
   "outputs": [
    {
     "name": "stdout",
     "output_type": "stream",
     "text": [
      "Expectation: 213.2699127447844\n",
      "Standard Deviation: 3.324604372759668\n",
      "Quantile 99%: 204.39032701984496\n",
      "Credit Value at Risk: 8.879585724939432\n",
      "Proxy: 7.734186314596337\n"
     ]
    }
   ],
   "source": [
    "print('Expectation:', expectation_exercice_1)\n",
    "print('Standard Deviation:', standard_dev_exercice_1)\n",
    "print('Quantile 99%:', quantile_99_exercice_1)\n",
    "print('Credit Value at Risk:', credit_var_exercice_1)\n",
    "print('Proxy:', proxy_credit_var_exercice_1)"
   ]
  },
  {
   "cell_type": "markdown",
   "metadata": {},
   "source": [
    "# Exercice 2 - Credit Value at Risk with dependances"
   ]
  },
  {
   "cell_type": "markdown",
   "metadata": {},
   "source": [
    "Please consider a portfolio of two bonds:\n",
    "* Rating A with nominal 100, 5% interest rate, 3Y maturity and 45% recovery rate\n",
    "* Rating BBB with nominal 100,, 6% interest rate, 5Y maturity and 45% recovery rate\n",
    "\n",
    "The aim of this exercice is to compute the Credit Value at Risk, given a forward market and a transition matrix (non-independant transitions).\n",
    "A study on the default probability is also expected."
   ]
  },
  {
   "cell_type": "markdown",
   "metadata": {},
   "source": [
    "### Portfolio"
   ]
  },
  {
   "cell_type": "code",
   "execution_count": 24,
   "metadata": {},
   "outputs": [],
   "source": [
    "bond_1 = Bond(rating='A', nominal=100, coupon_rate=0.05, maturity=3, recovery_rate=0.45)\n",
    "bond_2 = Bond(rating='BBB', nominal=100, coupon_rate=0.06, maturity=5, recovery_rate=0.45)\n",
    "portfolio_exercice_2 = Portfolio(list_derivatives=[bond_1, bond_2])"
   ]
  },
  {
   "cell_type": "markdown",
   "metadata": {},
   "source": [
    "### Market Data"
   ]
  },
  {
   "cell_type": "code",
   "execution_count": 25,
   "metadata": {},
   "outputs": [],
   "source": [
    "maturities = np.array([1, 2, 3, 4])\n",
    "\n",
    "aaa_rates = np.array([0.0360, 0.0417, 0.0473, 0.0512])\n",
    "aaa_ir_curve = InterestRateCurve(name='AAA', curve=aaa_rates, maturities=maturities)\n",
    "\n",
    "aa_rates = np.array([0.0365, 0.0422, 0.0478, 0.0517])\n",
    "aa_ir_curve = InterestRateCurve(name='AA', curve=aa_rates, maturities=maturities)\n",
    "\n",
    "a_rates = np.array([0.0372, 0.0432, 0.0493, 0.0532])\n",
    "a_ir_curve = InterestRateCurve(name='A', curve=a_rates, maturities=maturities)\n",
    "\n",
    "bbb_rates = np.array([0.0410, 0.0467, 0.0525, 0.0563])\n",
    "bbb_ir_curve = InterestRateCurve(name='BBB', curve=bbb_rates, maturities=maturities)\n",
    "\n",
    "bb_rates = np.array([0.0555, 0.0602, 0.0678, 0.0727])\n",
    "bb_ir_curve = InterestRateCurve(name='BB', curve=bb_rates, maturities=maturities)\n",
    "\n",
    "b_rates = np.array([0.0605, 0.0702, 0.0803, 0.0852])\n",
    "b_ir_curve = InterestRateCurve(name='B', curve=b_rates, maturities=maturities)\n",
    "\n",
    "ccc_rates = np.array([0.1505, 0.1502, 0.1403, 0.1352])\n",
    "ccc_ir_curve = InterestRateCurve(name='CCC', curve=ccc_rates, maturities=maturities)\n",
    "\n",
    "default_rates = np.array([])\n",
    "default_ir_curve = InterestRateCurve(name='Default', curve=default_rates, maturities=maturities)"
   ]
  },
  {
   "cell_type": "code",
   "execution_count": 26,
   "metadata": {},
   "outputs": [],
   "source": [
    "forward_market_exercice_2 = Market([aaa_ir_curve, aa_ir_curve, a_ir_curve, bbb_ir_curve, bb_ir_curve, b_ir_curve, ccc_ir_curve, default_ir_curve])"
   ]
  },
  {
   "cell_type": "markdown",
   "metadata": {},
   "source": [
    "### Transition Probability Getter & Examples"
   ]
  },
  {
   "cell_type": "code",
   "execution_count": 27,
   "metadata": {},
   "outputs": [],
   "source": [
    "transition_thresholds_exercice_2 = {}\n",
    "transition_thresholds_exercice_2['AAA'] = [-1.329, -2.382, -2.911, -3.036, -100.000, -100.000, -100.000]\n",
    "transition_thresholds_exercice_2['AA'] = [2.46, -1.36, -2.38, -2.85, -2.95, -3.54, -100.0]\n",
    "transition_thresholds_exercice_2['A'] = [3.12, 1.98, -1.51, -2.30, -2.72, -3.19, -3.24]\n",
    "transition_thresholds_exercice_2['BBB'] = [3.540, 2.70, 1.53, -1.49, -2.18, -2.75, -2.91]\n",
    "transition_thresholds_exercice_2['BB'] = [3.432, 2.929, 2.391, 1.368, -1.232, -2.042, -2.304]\n",
    "transition_thresholds_exercice_2['B'] = [10.0, 3.06, 2.70, 2.42, 1.46, -1.32, -1.62]\n",
    "transition_thresholds_exercice_2['CCC'] = [2.85, 2.85, 2.62, 2.11, 1.74, 1.02, -0.85]\n",
    "transition_thresholds_exercice_2['Default'] = [100.0, 100.0, 100.0, 100.0, 100.0, 100.0, 100.0]"
   ]
  },
  {
   "cell_type": "code",
   "execution_count": 28,
   "metadata": {},
   "outputs": [],
   "source": [
    "class TransitionProbabilityGetter:\n",
    "    \n",
    "    def __init__(self, transition_thresholds):\n",
    "        self.transition_thresholds = transition_thresholds\n",
    "        \n",
    "    def compute_scenario_probabilities(self, portfolio_scenario: Portfolio, portfolio_initial: Portfolio, cov_matrix: np.ndarray):\n",
    "        x1, x2, y1, y2 = self.get_thresholds(portfolio_scenario, portfolio_initial)\n",
    "        return self.compute_proba_from_thresholds(x1, x2, y1, y2, cov_matrix)\n",
    "        \n",
    "    def get_thresholds(self, portfolio_scenario: Portfolio, portfolio_initial: Portfolio):\n",
    "        x1, x2 = self.get_one_bond_threshold(portfolio_scenario=portfolio_scenario, portfolio_initial=portfolio_initial, id_derivative=0)\n",
    "        y1, y2 = self.get_one_bond_threshold(portfolio_scenario=portfolio_scenario, portfolio_initial=portfolio_initial, id_derivative=1)\n",
    "        return x1, x2, y1, y2\n",
    "    \n",
    "    def get_one_bond_threshold(self, portfolio_scenario: Portfolio, portfolio_initial: Portfolio, id_derivative: int):\n",
    "        if portfolio_scenario.list_derivatives[id_derivative].rating == 'AAA':\n",
    "            x2 = 100\n",
    "            x1 = self.transition_thresholds[portfolio_initial.list_derivatives[id_derivative].rating][0]\n",
    "        elif portfolio_scenario.list_derivatives[id_derivative].rating == 'AA':\n",
    "            x2 = self.transition_thresholds[portfolio_initial.list_derivatives[id_derivative].rating][0]\n",
    "            x1 = self.transition_thresholds[portfolio_initial.list_derivatives[id_derivative].rating][1]\n",
    "        elif portfolio_scenario.list_derivatives[id_derivative].rating == 'A':\n",
    "            x2 = self.transition_thresholds[portfolio_initial.list_derivatives[id_derivative].rating][1]\n",
    "            x1 = self.transition_thresholds[portfolio_initial.list_derivatives[id_derivative].rating][2]\n",
    "        elif portfolio_scenario.list_derivatives[id_derivative].rating == 'BBB':\n",
    "            x2 = self.transition_thresholds[portfolio_initial.list_derivatives[id_derivative].rating][2]\n",
    "            x1 = self.transition_thresholds[portfolio_initial.list_derivatives[id_derivative].rating][3]\n",
    "        elif portfolio_scenario.list_derivatives[id_derivative].rating == 'BB':\n",
    "            x2 = self.transition_thresholds[portfolio_initial.list_derivatives[id_derivative].rating][3]\n",
    "            x1 = self.transition_thresholds[portfolio_initial.list_derivatives[id_derivative].rating][4]\n",
    "        elif portfolio_scenario.list_derivatives[id_derivative].rating == 'B':\n",
    "            x2 = self.transition_thresholds[portfolio_initial.list_derivatives[id_derivative].rating][4]\n",
    "            x1 = self.transition_thresholds[portfolio_initial.list_derivatives[id_derivative].rating][5]\n",
    "        elif portfolio_scenario.list_derivatives[id_derivative].rating == 'CCC':\n",
    "            x2 = self.transition_thresholds[portfolio_initial.list_derivatives[id_derivative].rating][5]\n",
    "            x1 = self.transition_thresholds[portfolio_initial.list_derivatives[id_derivative].rating][6]\n",
    "        elif portfolio_scenario.list_derivatives[id_derivative].rating == 'Default':\n",
    "            x2 = self.transition_thresholds[portfolio_initial.list_derivatives[id_derivative].rating][6]\n",
    "            x1 = -100\n",
    "        return x1, x2\n",
    "\n",
    "    def compute_proba_from_thresholds(self, x1, x2, y1, y2, cov_matrix: np.ndarray):\n",
    "        mean = np.array([0,0])\n",
    "        dist = mvn(mean=mean, cov=cov_matrix)\n",
    "        probability = dist.cdf(np.array([x2,y2])) #P(X<x2, Y<y2)\n",
    "        probability -= dist.cdf(np.array([x1,y2])) #P(X<x1, Y<y2)\n",
    "        probability -= dist.cdf(np.array([x2,y1])) #P(X<x2, Y<y1)\n",
    "        probability += dist.cdf(np.array([x1,y1])) #P(X<x1, Y<y1)\n",
    "        return probability #P(x1<X<x2, y1<Y<y2)"
   ]
  },
  {
   "cell_type": "code",
   "execution_count": 29,
   "metadata": {},
   "outputs": [],
   "source": [
    "transition_probability_getter = TransitionProbabilityGetter(transition_thresholds_exercice_2)"
   ]
  },
  {
   "cell_type": "code",
   "execution_count": 30,
   "metadata": {},
   "outputs": [
    {
     "name": "stdout",
     "output_type": "stream",
     "text": [
      "A\n",
      "BBB\n"
     ]
    }
   ],
   "source": [
    "print(portfolio_exercice_2.list_derivatives[0].rating)\n",
    "print(portfolio_exercice_2.list_derivatives[1].rating)"
   ]
  },
  {
   "cell_type": "code",
   "execution_count": 31,
   "metadata": {},
   "outputs": [
    {
     "name": "stdout",
     "output_type": "stream",
     "text": [
      "Transition proba to A and BBB with 0.0% correl: 0.7912247344849377\n"
     ]
    }
   ],
   "source": [
    "# Remember:\n",
    "#bond_1 = Bond(rating='A', nominal=100, coupon_rate=0.05, maturity=3, recovery_rate=0.45)\n",
    "#bond_2 = Bond(rating='BBB', nominal=100, coupon_rate=0.06, maturity=5, recovery_rate=0.45)\n",
    "\n",
    "col_row = ['AAA', 'AA', 'A', 'BBB', 'BB', 'B', 'CCC', 'Default', 'Total']\n",
    "correlated_transition = pd.DataFrame(index=col_row, columns=col_row)\n",
    "\n",
    "correl = 0.0\n",
    "\n",
    "covariance_exercice_2_temp = np.array([[1, correl],[correl, 1]])\n",
    "\n",
    "portfolio_scenario_temp_bis = deepcopy(portfolio_exercice_2)\n",
    "portfolio_scenario_temp_bis.list_derivatives[0].rating = 'A'\n",
    "portfolio_scenario_temp_bis.list_derivatives[1].rating = 'BBB'\n",
    "\n",
    "print('Transition proba to ' + str(portfolio_scenario_temp_bis.list_derivatives[0].rating) + ' and ' + str(portfolio_scenario_temp_bis.list_derivatives[1].rating)\\\n",
    "      +' with ' + str(correl*100) + '% correl:'\\\n",
    "    , transition_probability_getter.compute_scenario_probabilities(portfolio_scenario_temp_bis, portfolio_exercice_2, covariance_exercice_2_temp))"
   ]
  },
  {
   "cell_type": "code",
   "execution_count": 32,
   "metadata": {},
   "outputs": [],
   "source": [
    "for ratingA in ['AAA', 'AA', 'A', 'BBB', 'BB', 'B', 'CCC', 'Default']:\n",
    "    for ratingB in ['AAA', 'AA', 'A', 'BBB', 'BB', 'B', 'CCC', 'Default']:\n",
    "        portfolio_scenario_temp = deepcopy(portfolio_exercice_2)\n",
    "        portfolio_scenario_temp.list_derivatives[0].rating = ratingA\n",
    "        portfolio_scenario_temp.list_derivatives[1].rating = ratingB\n",
    "        correlated_transition.loc[ratingA, ratingB] = transition_probability_getter.compute_scenario_probabilities(portfolio_scenario_temp, portfolio_exercice_2, covariance_exercice_2_temp)\n",
    "        \n",
    "        \n",
    "            \n",
    "correlated_transition.loc['Total', :] = correlated_transition.sum(axis=0)\n",
    "correlated_transition.loc[:, 'Total'] = correlated_transition.sum(axis=1)"
   ]
  },
  {
   "cell_type": "code",
   "execution_count": 33,
   "metadata": {},
   "outputs": [
    {
     "name": "stdout",
     "output_type": "stream",
     "text": [
      "initial rating oblig_1 (lignes): A\n",
      "initial rating oblig_2 (columns): BBB\n"
     ]
    },
    {
     "data": {
      "text/html": [
       "<style  type=\"text/css\" >\n",
       "</style><table id=\"T_32a69f86_97b9_11eb_9fa2_b42e99f28c20\" ><thead>    <tr>        <th class=\"blank level0\" ></th>        <th class=\"col_heading level0 col0\" >AAA</th>        <th class=\"col_heading level0 col1\" >AA</th>        <th class=\"col_heading level0 col2\" >A</th>        <th class=\"col_heading level0 col3\" >BBB</th>        <th class=\"col_heading level0 col4\" >BB</th>        <th class=\"col_heading level0 col5\" >B</th>        <th class=\"col_heading level0 col6\" >CCC</th>        <th class=\"col_heading level0 col7\" >Default</th>        <th class=\"col_heading level0 col8\" >Total</th>    </tr></thead><tbody>\n",
       "                <tr>\n",
       "                        <th id=\"T_32a69f86_97b9_11eb_9fa2_b42e99f28c20level0_row0\" class=\"row_heading level0 row0\" >AAA</th>\n",
       "                        <td id=\"T_32a69f86_97b9_11eb_9fa2_b42e99f28c20row0_col0\" class=\"data row0 col0\" >0.00%</td>\n",
       "                        <td id=\"T_32a69f86_97b9_11eb_9fa2_b42e99f28c20row0_col1\" class=\"data row0 col1\" >0.00%</td>\n",
       "                        <td id=\"T_32a69f86_97b9_11eb_9fa2_b42e99f28c20row0_col2\" class=\"data row0 col2\" >0.01%</td>\n",
       "                        <td id=\"T_32a69f86_97b9_11eb_9fa2_b42e99f28c20row0_col3\" class=\"data row0 col3\" >0.08%</td>\n",
       "                        <td id=\"T_32a69f86_97b9_11eb_9fa2_b42e99f28c20row0_col4\" class=\"data row0 col4\" >0.00%</td>\n",
       "                        <td id=\"T_32a69f86_97b9_11eb_9fa2_b42e99f28c20row0_col5\" class=\"data row0 col5\" >0.00%</td>\n",
       "                        <td id=\"T_32a69f86_97b9_11eb_9fa2_b42e99f28c20row0_col6\" class=\"data row0 col6\" >0.00%</td>\n",
       "                        <td id=\"T_32a69f86_97b9_11eb_9fa2_b42e99f28c20row0_col7\" class=\"data row0 col7\" >0.00%</td>\n",
       "                        <td id=\"T_32a69f86_97b9_11eb_9fa2_b42e99f28c20row0_col8\" class=\"data row0 col8\" >0.09%</td>\n",
       "            </tr>\n",
       "            <tr>\n",
       "                        <th id=\"T_32a69f86_97b9_11eb_9fa2_b42e99f28c20level0_row1\" class=\"row_heading level0 row1\" >AA</th>\n",
       "                        <td id=\"T_32a69f86_97b9_11eb_9fa2_b42e99f28c20row1_col0\" class=\"data row1 col0\" >0.00%</td>\n",
       "                        <td id=\"T_32a69f86_97b9_11eb_9fa2_b42e99f28c20row1_col1\" class=\"data row1 col1\" >0.01%</td>\n",
       "                        <td id=\"T_32a69f86_97b9_11eb_9fa2_b42e99f28c20row1_col2\" class=\"data row1 col2\" >0.14%</td>\n",
       "                        <td id=\"T_32a69f86_97b9_11eb_9fa2_b42e99f28c20row1_col3\" class=\"data row1 col3\" >1.99%</td>\n",
       "                        <td id=\"T_32a69f86_97b9_11eb_9fa2_b42e99f28c20row1_col4\" class=\"data row1 col4\" >0.12%</td>\n",
       "                        <td id=\"T_32a69f86_97b9_11eb_9fa2_b42e99f28c20row1_col5\" class=\"data row1 col5\" >0.03%</td>\n",
       "                        <td id=\"T_32a69f86_97b9_11eb_9fa2_b42e99f28c20row1_col6\" class=\"data row1 col6\" >0.00%</td>\n",
       "                        <td id=\"T_32a69f86_97b9_11eb_9fa2_b42e99f28c20row1_col7\" class=\"data row1 col7\" >0.00%</td>\n",
       "                        <td id=\"T_32a69f86_97b9_11eb_9fa2_b42e99f28c20row1_col8\" class=\"data row1 col8\" >2.29%</td>\n",
       "            </tr>\n",
       "            <tr>\n",
       "                        <th id=\"T_32a69f86_97b9_11eb_9fa2_b42e99f28c20level0_row2\" class=\"row_heading level0 row2\" >A</th>\n",
       "                        <td id=\"T_32a69f86_97b9_11eb_9fa2_b42e99f28c20row2_col0\" class=\"data row2 col0\" >0.02%</td>\n",
       "                        <td id=\"T_32a69f86_97b9_11eb_9fa2_b42e99f28c20row2_col1\" class=\"data row2 col1\" >0.30%</td>\n",
       "                        <td id=\"T_32a69f86_97b9_11eb_9fa2_b42e99f28c20row2_col2\" class=\"data row2 col2\" >5.42%</td>\n",
       "                        <td id=\"T_32a69f86_97b9_11eb_9fa2_b42e99f28c20row2_col3\" class=\"data row2 col3\" >79.12%</td>\n",
       "                        <td id=\"T_32a69f86_97b9_11eb_9fa2_b42e99f28c20row2_col4\" class=\"data row2 col4\" >4.87%</td>\n",
       "                        <td id=\"T_32a69f86_97b9_11eb_9fa2_b42e99f28c20row2_col5\" class=\"data row2 col5\" >1.06%</td>\n",
       "                        <td id=\"T_32a69f86_97b9_11eb_9fa2_b42e99f28c20row2_col6\" class=\"data row2 col6\" >0.11%</td>\n",
       "                        <td id=\"T_32a69f86_97b9_11eb_9fa2_b42e99f28c20row2_col7\" class=\"data row2 col7\" >0.16%</td>\n",
       "                        <td id=\"T_32a69f86_97b9_11eb_9fa2_b42e99f28c20row2_col8\" class=\"data row2 col8\" >91.06%</td>\n",
       "            </tr>\n",
       "            <tr>\n",
       "                        <th id=\"T_32a69f86_97b9_11eb_9fa2_b42e99f28c20level0_row3\" class=\"row_heading level0 row3\" >BBB</th>\n",
       "                        <td id=\"T_32a69f86_97b9_11eb_9fa2_b42e99f28c20row3_col0\" class=\"data row3 col0\" >0.00%</td>\n",
       "                        <td id=\"T_32a69f86_97b9_11eb_9fa2_b42e99f28c20row3_col1\" class=\"data row3 col1\" >0.02%</td>\n",
       "                        <td id=\"T_32a69f86_97b9_11eb_9fa2_b42e99f28c20row3_col2\" class=\"data row3 col2\" >0.33%</td>\n",
       "                        <td id=\"T_32a69f86_97b9_11eb_9fa2_b42e99f28c20row3_col3\" class=\"data row3 col3\" >4.76%</td>\n",
       "                        <td id=\"T_32a69f86_97b9_11eb_9fa2_b42e99f28c20row3_col4\" class=\"data row3 col4\" >0.29%</td>\n",
       "                        <td id=\"T_32a69f86_97b9_11eb_9fa2_b42e99f28c20row3_col5\" class=\"data row3 col5\" >0.06%</td>\n",
       "                        <td id=\"T_32a69f86_97b9_11eb_9fa2_b42e99f28c20row3_col6\" class=\"data row3 col6\" >0.01%</td>\n",
       "                        <td id=\"T_32a69f86_97b9_11eb_9fa2_b42e99f28c20row3_col7\" class=\"data row3 col7\" >0.01%</td>\n",
       "                        <td id=\"T_32a69f86_97b9_11eb_9fa2_b42e99f28c20row3_col8\" class=\"data row3 col8\" >5.48%</td>\n",
       "            </tr>\n",
       "            <tr>\n",
       "                        <th id=\"T_32a69f86_97b9_11eb_9fa2_b42e99f28c20level0_row4\" class=\"row_heading level0 row4\" >BB</th>\n",
       "                        <td id=\"T_32a69f86_97b9_11eb_9fa2_b42e99f28c20row4_col0\" class=\"data row4 col0\" >0.00%</td>\n",
       "                        <td id=\"T_32a69f86_97b9_11eb_9fa2_b42e99f28c20row4_col1\" class=\"data row4 col1\" >0.00%</td>\n",
       "                        <td id=\"T_32a69f86_97b9_11eb_9fa2_b42e99f28c20row4_col2\" class=\"data row4 col2\" >0.04%</td>\n",
       "                        <td id=\"T_32a69f86_97b9_11eb_9fa2_b42e99f28c20row4_col3\" class=\"data row4 col3\" >0.65%</td>\n",
       "                        <td id=\"T_32a69f86_97b9_11eb_9fa2_b42e99f28c20row4_col4\" class=\"data row4 col4\" >0.04%</td>\n",
       "                        <td id=\"T_32a69f86_97b9_11eb_9fa2_b42e99f28c20row4_col5\" class=\"data row4 col5\" >0.01%</td>\n",
       "                        <td id=\"T_32a69f86_97b9_11eb_9fa2_b42e99f28c20row4_col6\" class=\"data row4 col6\" >0.00%</td>\n",
       "                        <td id=\"T_32a69f86_97b9_11eb_9fa2_b42e99f28c20row4_col7\" class=\"data row4 col7\" >0.00%</td>\n",
       "                        <td id=\"T_32a69f86_97b9_11eb_9fa2_b42e99f28c20row4_col8\" class=\"data row4 col8\" >0.75%</td>\n",
       "            </tr>\n",
       "            <tr>\n",
       "                        <th id=\"T_32a69f86_97b9_11eb_9fa2_b42e99f28c20level0_row5\" class=\"row_heading level0 row5\" >B</th>\n",
       "                        <td id=\"T_32a69f86_97b9_11eb_9fa2_b42e99f28c20row5_col0\" class=\"data row5 col0\" >0.00%</td>\n",
       "                        <td id=\"T_32a69f86_97b9_11eb_9fa2_b42e99f28c20row5_col1\" class=\"data row5 col1\" >0.00%</td>\n",
       "                        <td id=\"T_32a69f86_97b9_11eb_9fa2_b42e99f28c20row5_col2\" class=\"data row5 col2\" >0.02%</td>\n",
       "                        <td id=\"T_32a69f86_97b9_11eb_9fa2_b42e99f28c20row5_col3\" class=\"data row5 col3\" >0.22%</td>\n",
       "                        <td id=\"T_32a69f86_97b9_11eb_9fa2_b42e99f28c20row5_col4\" class=\"data row5 col4\" >0.01%</td>\n",
       "                        <td id=\"T_32a69f86_97b9_11eb_9fa2_b42e99f28c20row5_col5\" class=\"data row5 col5\" >0.00%</td>\n",
       "                        <td id=\"T_32a69f86_97b9_11eb_9fa2_b42e99f28c20row5_col6\" class=\"data row5 col6\" >0.00%</td>\n",
       "                        <td id=\"T_32a69f86_97b9_11eb_9fa2_b42e99f28c20row5_col7\" class=\"data row5 col7\" >0.00%</td>\n",
       "                        <td id=\"T_32a69f86_97b9_11eb_9fa2_b42e99f28c20row5_col8\" class=\"data row5 col8\" >0.26%</td>\n",
       "            </tr>\n",
       "            <tr>\n",
       "                        <th id=\"T_32a69f86_97b9_11eb_9fa2_b42e99f28c20level0_row6\" class=\"row_heading level0 row6\" >CCC</th>\n",
       "                        <td id=\"T_32a69f86_97b9_11eb_9fa2_b42e99f28c20row6_col0\" class=\"data row6 col0\" >0.00%</td>\n",
       "                        <td id=\"T_32a69f86_97b9_11eb_9fa2_b42e99f28c20row6_col1\" class=\"data row6 col1\" >0.00%</td>\n",
       "                        <td id=\"T_32a69f86_97b9_11eb_9fa2_b42e99f28c20row6_col2\" class=\"data row6 col2\" >0.00%</td>\n",
       "                        <td id=\"T_32a69f86_97b9_11eb_9fa2_b42e99f28c20row6_col3\" class=\"data row6 col3\" >0.01%</td>\n",
       "                        <td id=\"T_32a69f86_97b9_11eb_9fa2_b42e99f28c20row6_col4\" class=\"data row6 col4\" >0.00%</td>\n",
       "                        <td id=\"T_32a69f86_97b9_11eb_9fa2_b42e99f28c20row6_col5\" class=\"data row6 col5\" >0.00%</td>\n",
       "                        <td id=\"T_32a69f86_97b9_11eb_9fa2_b42e99f28c20row6_col6\" class=\"data row6 col6\" >0.00%</td>\n",
       "                        <td id=\"T_32a69f86_97b9_11eb_9fa2_b42e99f28c20row6_col7\" class=\"data row6 col7\" >0.00%</td>\n",
       "                        <td id=\"T_32a69f86_97b9_11eb_9fa2_b42e99f28c20row6_col8\" class=\"data row6 col8\" >0.01%</td>\n",
       "            </tr>\n",
       "            <tr>\n",
       "                        <th id=\"T_32a69f86_97b9_11eb_9fa2_b42e99f28c20level0_row7\" class=\"row_heading level0 row7\" >Default</th>\n",
       "                        <td id=\"T_32a69f86_97b9_11eb_9fa2_b42e99f28c20row7_col0\" class=\"data row7 col0\" >0.00%</td>\n",
       "                        <td id=\"T_32a69f86_97b9_11eb_9fa2_b42e99f28c20row7_col1\" class=\"data row7 col1\" >0.00%</td>\n",
       "                        <td id=\"T_32a69f86_97b9_11eb_9fa2_b42e99f28c20row7_col2\" class=\"data row7 col2\" >0.00%</td>\n",
       "                        <td id=\"T_32a69f86_97b9_11eb_9fa2_b42e99f28c20row7_col3\" class=\"data row7 col3\" >0.05%</td>\n",
       "                        <td id=\"T_32a69f86_97b9_11eb_9fa2_b42e99f28c20row7_col4\" class=\"data row7 col4\" >0.00%</td>\n",
       "                        <td id=\"T_32a69f86_97b9_11eb_9fa2_b42e99f28c20row7_col5\" class=\"data row7 col5\" >0.00%</td>\n",
       "                        <td id=\"T_32a69f86_97b9_11eb_9fa2_b42e99f28c20row7_col6\" class=\"data row7 col6\" >0.00%</td>\n",
       "                        <td id=\"T_32a69f86_97b9_11eb_9fa2_b42e99f28c20row7_col7\" class=\"data row7 col7\" >0.00%</td>\n",
       "                        <td id=\"T_32a69f86_97b9_11eb_9fa2_b42e99f28c20row7_col8\" class=\"data row7 col8\" >0.06%</td>\n",
       "            </tr>\n",
       "            <tr>\n",
       "                        <th id=\"T_32a69f86_97b9_11eb_9fa2_b42e99f28c20level0_row8\" class=\"row_heading level0 row8\" >Total</th>\n",
       "                        <td id=\"T_32a69f86_97b9_11eb_9fa2_b42e99f28c20row8_col0\" class=\"data row8 col0\" >0.02%</td>\n",
       "                        <td id=\"T_32a69f86_97b9_11eb_9fa2_b42e99f28c20row8_col1\" class=\"data row8 col1\" >0.33%</td>\n",
       "                        <td id=\"T_32a69f86_97b9_11eb_9fa2_b42e99f28c20row8_col2\" class=\"data row8 col2\" >5.95%</td>\n",
       "                        <td id=\"T_32a69f86_97b9_11eb_9fa2_b42e99f28c20row8_col3\" class=\"data row8 col3\" >86.89%</td>\n",
       "                        <td id=\"T_32a69f86_97b9_11eb_9fa2_b42e99f28c20row8_col4\" class=\"data row8 col4\" >5.35%</td>\n",
       "                        <td id=\"T_32a69f86_97b9_11eb_9fa2_b42e99f28c20row8_col5\" class=\"data row8 col5\" >1.16%</td>\n",
       "                        <td id=\"T_32a69f86_97b9_11eb_9fa2_b42e99f28c20row8_col6\" class=\"data row8 col6\" >0.12%</td>\n",
       "                        <td id=\"T_32a69f86_97b9_11eb_9fa2_b42e99f28c20row8_col7\" class=\"data row8 col7\" >0.18%</td>\n",
       "                        <td id=\"T_32a69f86_97b9_11eb_9fa2_b42e99f28c20row8_col8\" class=\"data row8 col8\" >100.00%</td>\n",
       "            </tr>\n",
       "    </tbody></table>"
      ],
      "text/plain": [
       "<pandas.io.formats.style.Styler at 0x21052792fa0>"
      ]
     },
     "execution_count": 33,
     "metadata": {},
     "output_type": "execute_result"
    }
   ],
   "source": [
    "print('initial rating oblig_1 (lignes):', portfolio_exercice_2.list_derivatives[0].rating)\n",
    "print('initial rating oblig_2 (columns):', portfolio_exercice_2.list_derivatives[1].rating)\n",
    "\n",
    "#pd.options.display.float_format = '{:.2%}'.format\n",
    "correlated_transition = correlated_transition.style.format({'AAA':'{:.2%}', 'AA':'{:.2%}', 'A':'{:.2%}', 'BBB':'{:.2%}', 'BB':'{:.2%}', 'B':'{:.2%}', 'CCC':'{:.2%}', 'Default':'{:.2%}', 'Total':'{:.2%}'})\n",
    "correlated_transition"
   ]
  },
  {
   "cell_type": "code",
   "execution_count": 34,
   "metadata": {},
   "outputs": [
    {
     "name": "stdout",
     "output_type": "stream",
     "text": [
      "Default probability with 99% correl: 0.0005960209584683666\n",
      "Default probability with 30% correl: 1.561189257274955e-05\n"
     ]
    }
   ],
   "source": [
    "portfolio_scenario_temp = deepcopy(portfolio_exercice_2)\n",
    "portfolio_scenario_temp.list_derivatives[0].rating = 'Default'\n",
    "portfolio_scenario_temp.list_derivatives[1].rating = 'Default'\n",
    "\n",
    "covariance_temp_1_exercice_2 = np.array([[1, 0.99],[0.99, 1]])\n",
    "\n",
    "print('Default probability with 99% correl:', transition_probability_getter.compute_scenario_probabilities(portfolio_scenario_temp, \n",
    "                                                                                                           portfolio_exercice_2, \n",
    "                                                                                                           covariance_temp_1_exercice_2))\n",
    "\n",
    "covariance_temp_2_exercice_2 = np.array([[1, 0.3],[0.3, 1]])\n",
    "print('Default probability with 30% correl:', transition_probability_getter.compute_scenario_probabilities(portfolio_scenario_temp, \n",
    "                                                                                                           portfolio_exercice_2, \n",
    "                                                                                                           covariance_temp_2_exercice_2))"
   ]
  },
  {
   "cell_type": "markdown",
   "metadata": {},
   "source": [
    "### Part 1 - Default correlation"
   ]
  },
  {
   "cell_type": "code",
   "execution_count": 35,
   "metadata": {},
   "outputs": [],
   "source": [
    "def compute_default_correlation(portfolio: Portfolio, transition_probability_getter: TransitionProbabilityGetter, covariance: np.ndarray):\n",
    "    ratings = ['AAA', 'AA', 'A', 'BBB', 'BB', 'B', 'CCC', 'Default']\n",
    "    # p(1,2)\n",
    "    portfolio_temp = deepcopy(portfolio)\n",
    "    portfolio_temp.list_derivatives[0].rating = 'Default'\n",
    "    portfolio_temp.list_derivatives[1].rating = 'Default'\n",
    "    p1_2 = transition_probability_getter.compute_scenario_probabilities(portfolio_temp, portfolio, covariance)\n",
    "    # p(1)\n",
    "    p1 = 0.0\n",
    "    for ra in ratings:\n",
    "        portfolio_temp = deepcopy(portfolio)\n",
    "        portfolio_temp.list_derivatives[0].rating = ra\n",
    "        portfolio_temp.list_derivatives[1].rating = 'Default'\n",
    "        p1 += transition_probability_getter.compute_scenario_probabilities(portfolio_temp, portfolio, covariance)\n",
    "    # p(2)\n",
    "    p2 = 0.0\n",
    "    for ra in ratings:\n",
    "        portfolio_temp = deepcopy(portfolio)\n",
    "        portfolio_temp.list_derivatives[0].rating = 'Default'\n",
    "        portfolio_temp.list_derivatives[1].rating = ra\n",
    "        p2 += transition_probability_getter.compute_scenario_probabilities(portfolio_temp, portfolio, covariance)\n",
    "    return (p1_2 - p1*p2) / np.sqrt(p1 * (1-p1) * p2 * (1-p2))"
   ]
  },
  {
   "cell_type": "code",
   "execution_count": 36,
   "metadata": {},
   "outputs": [],
   "source": [
    "def generate_default_correlation_table(portfolio: Portfolio, transition_probability_getter_correl: TransitionProbabilityGetter, style_prc=True):\n",
    "    correl_levels = [0.0, 0.05, 0.1, 0.15, 0.20, 0.25, 0.30, 0.35, 0.40, 0.45, 0.50, 0.55, 0.60, 0.65, 0.70, 0.75, 0.80, 0.85, 0.90, 0.95]\n",
    "    df = pd.DataFrame(index=['0%', '5%', '10%', '15%', '20%', '25%', '30%', '35%', '40%', '45%', '50%', '55%', '60%', '65%', '70%', '75%', '80%', '85%', '90%', '95%'], columns=['Default Correlation', 'Default Probability'])\n",
    "    for correl in correl_levels:\n",
    "        covariance_temp = np.array([[1, correl],[correl, 1]])\n",
    "        df.loc[str(int(correl*100)) + '%', 'Default Correlation'] = compute_default_correlation(portfolio, transition_probability_getter_correl, covariance_temp)\n",
    "        portfolio_temp = deepcopy(portfolio)\n",
    "        portfolio_temp.list_derivatives[0].rating = 'Default'\n",
    "        portfolio_temp.list_derivatives[1].rating = 'Default'\n",
    "        df.loc[str(int(correl*100)) + '%', 'Default Probability'] = transition_probability_getter.compute_scenario_probabilities(portfolio_temp, portfolio, covariance_temp)\n",
    "    if style_prc:\n",
    "        df = df.style.format({'Default Correlation':'{:.2%}', 'Default Probability':'{:.2%}'})\n",
    "    return df"
   ]
  },
  {
   "cell_type": "code",
   "execution_count": 37,
   "metadata": {},
   "outputs": [],
   "source": [
    "covariance_exercice_2_1 = np.array([[1, 0.95],[0.95, 1]])"
   ]
  },
  {
   "cell_type": "code",
   "execution_count": 38,
   "metadata": {},
   "outputs": [
    {
     "data": {
      "text/plain": [
       "0.4978404792289699"
      ]
     },
     "execution_count": 38,
     "metadata": {},
     "output_type": "execute_result"
    }
   ],
   "source": [
    "compute_default_correlation(portfolio_exercice_2, transition_probability_getter, covariance_exercice_2_1)"
   ]
  },
  {
   "cell_type": "code",
   "execution_count": 39,
   "metadata": {},
   "outputs": [],
   "source": [
    "default_correl_df = generate_default_correlation_table(portfolio=portfolio_exercice_2, transition_probability_getter_correl=transition_probability_getter)"
   ]
  },
  {
   "cell_type": "code",
   "execution_count": 40,
   "metadata": {},
   "outputs": [
    {
     "data": {
      "text/html": [
       "<style  type=\"text/css\" >\n",
       "</style><table id=\"T_32ce851c_97b9_11eb_920a_b42e99f28c20\" ><thead>    <tr>        <th class=\"blank level0\" ></th>        <th class=\"col_heading level0 col0\" >Default Correlation</th>        <th class=\"col_heading level0 col1\" >Default Probability</th>    </tr></thead><tbody>\n",
       "                <tr>\n",
       "                        <th id=\"T_32ce851c_97b9_11eb_920a_b42e99f28c20level0_row0\" class=\"row_heading level0 row0\" >0%</th>\n",
       "                        <td id=\"T_32ce851c_97b9_11eb_920a_b42e99f28c20row0_col0\" class=\"data row0 col0\" >-0.00%</td>\n",
       "                        <td id=\"T_32ce851c_97b9_11eb_920a_b42e99f28c20row0_col1\" class=\"data row0 col1\" >0.00%</td>\n",
       "            </tr>\n",
       "            <tr>\n",
       "                        <th id=\"T_32ce851c_97b9_11eb_920a_b42e99f28c20level0_row1\" class=\"row_heading level0 row1\" >5%</th>\n",
       "                        <td id=\"T_32ce851c_97b9_11eb_920a_b42e99f28c20row1_col0\" class=\"data row1 col0\" >0.07%</td>\n",
       "                        <td id=\"T_32ce851c_97b9_11eb_920a_b42e99f28c20row1_col1\" class=\"data row1 col1\" >0.00%</td>\n",
       "            </tr>\n",
       "            <tr>\n",
       "                        <th id=\"T_32ce851c_97b9_11eb_920a_b42e99f28c20level0_row2\" class=\"row_heading level0 row2\" >10%</th>\n",
       "                        <td id=\"T_32ce851c_97b9_11eb_920a_b42e99f28c20row2_col0\" class=\"data row2 col0\" >0.19%</td>\n",
       "                        <td id=\"T_32ce851c_97b9_11eb_920a_b42e99f28c20row2_col1\" class=\"data row2 col1\" >0.00%</td>\n",
       "            </tr>\n",
       "            <tr>\n",
       "                        <th id=\"T_32ce851c_97b9_11eb_920a_b42e99f28c20level0_row3\" class=\"row_heading level0 row3\" >15%</th>\n",
       "                        <td id=\"T_32ce851c_97b9_11eb_920a_b42e99f28c20row3_col0\" class=\"data row3 col0\" >0.36%</td>\n",
       "                        <td id=\"T_32ce851c_97b9_11eb_920a_b42e99f28c20row3_col1\" class=\"data row3 col1\" >0.00%</td>\n",
       "            </tr>\n",
       "            <tr>\n",
       "                        <th id=\"T_32ce851c_97b9_11eb_920a_b42e99f28c20level0_row4\" class=\"row_heading level0 row4\" >20%</th>\n",
       "                        <td id=\"T_32ce851c_97b9_11eb_920a_b42e99f28c20row4_col0\" class=\"data row4 col0\" >0.60%</td>\n",
       "                        <td id=\"T_32ce851c_97b9_11eb_920a_b42e99f28c20row4_col1\" class=\"data row4 col1\" >0.00%</td>\n",
       "            </tr>\n",
       "            <tr>\n",
       "                        <th id=\"T_32ce851c_97b9_11eb_920a_b42e99f28c20level0_row5\" class=\"row_heading level0 row5\" >25%</th>\n",
       "                        <td id=\"T_32ce851c_97b9_11eb_920a_b42e99f28c20row5_col0\" class=\"data row5 col0\" >0.94%</td>\n",
       "                        <td id=\"T_32ce851c_97b9_11eb_920a_b42e99f28c20row5_col1\" class=\"data row5 col1\" >0.00%</td>\n",
       "            </tr>\n",
       "            <tr>\n",
       "                        <th id=\"T_32ce851c_97b9_11eb_920a_b42e99f28c20level0_row6\" class=\"row_heading level0 row6\" >30%</th>\n",
       "                        <td id=\"T_32ce851c_97b9_11eb_920a_b42e99f28c20row6_col0\" class=\"data row6 col0\" >1.40%</td>\n",
       "                        <td id=\"T_32ce851c_97b9_11eb_920a_b42e99f28c20row6_col1\" class=\"data row6 col1\" >0.00%</td>\n",
       "            </tr>\n",
       "            <tr>\n",
       "                        <th id=\"T_32ce851c_97b9_11eb_920a_b42e99f28c20level0_row7\" class=\"row_heading level0 row7\" >35%</th>\n",
       "                        <td id=\"T_32ce851c_97b9_11eb_920a_b42e99f28c20row7_col0\" class=\"data row7 col0\" >2.02%</td>\n",
       "                        <td id=\"T_32ce851c_97b9_11eb_920a_b42e99f28c20row7_col1\" class=\"data row7 col1\" >0.00%</td>\n",
       "            </tr>\n",
       "            <tr>\n",
       "                        <th id=\"T_32ce851c_97b9_11eb_920a_b42e99f28c20level0_row8\" class=\"row_heading level0 row8\" >40%</th>\n",
       "                        <td id=\"T_32ce851c_97b9_11eb_920a_b42e99f28c20row8_col0\" class=\"data row8 col0\" >2.84%</td>\n",
       "                        <td id=\"T_32ce851c_97b9_11eb_920a_b42e99f28c20row8_col1\" class=\"data row8 col1\" >0.00%</td>\n",
       "            </tr>\n",
       "            <tr>\n",
       "                        <th id=\"T_32ce851c_97b9_11eb_920a_b42e99f28c20level0_row9\" class=\"row_heading level0 row9\" >45%</th>\n",
       "                        <td id=\"T_32ce851c_97b9_11eb_920a_b42e99f28c20row9_col0\" class=\"data row9 col0\" >3.90%</td>\n",
       "                        <td id=\"T_32ce851c_97b9_11eb_920a_b42e99f28c20row9_col1\" class=\"data row9 col1\" >0.00%</td>\n",
       "            </tr>\n",
       "            <tr>\n",
       "                        <th id=\"T_32ce851c_97b9_11eb_920a_b42e99f28c20level0_row10\" class=\"row_heading level0 row10\" >50%</th>\n",
       "                        <td id=\"T_32ce851c_97b9_11eb_920a_b42e99f28c20row10_col0\" class=\"data row10 col0\" >5.27%</td>\n",
       "                        <td id=\"T_32ce851c_97b9_11eb_920a_b42e99f28c20row10_col1\" class=\"data row10 col1\" >0.01%</td>\n",
       "            </tr>\n",
       "            <tr>\n",
       "                        <th id=\"T_32ce851c_97b9_11eb_920a_b42e99f28c20level0_row11\" class=\"row_heading level0 row11\" >55%</th>\n",
       "                        <td id=\"T_32ce851c_97b9_11eb_920a_b42e99f28c20row11_col0\" class=\"data row11 col0\" >6.99%</td>\n",
       "                        <td id=\"T_32ce851c_97b9_11eb_920a_b42e99f28c20row11_col1\" class=\"data row11 col1\" >0.01%</td>\n",
       "            </tr>\n",
       "            <tr>\n",
       "                        <th id=\"T_32ce851c_97b9_11eb_920a_b42e99f28c20level0_row12\" class=\"row_heading level0 row12\" >60%</th>\n",
       "                        <td id=\"T_32ce851c_97b9_11eb_920a_b42e99f28c20row12_col0\" class=\"data row12 col0\" >9.17%</td>\n",
       "                        <td id=\"T_32ce851c_97b9_11eb_920a_b42e99f28c20row12_col1\" class=\"data row12 col1\" >0.01%</td>\n",
       "            </tr>\n",
       "            <tr>\n",
       "                        <th id=\"T_32ce851c_97b9_11eb_920a_b42e99f28c20level0_row13\" class=\"row_heading level0 row13\" >65%</th>\n",
       "                        <td id=\"T_32ce851c_97b9_11eb_920a_b42e99f28c20row13_col0\" class=\"data row13 col0\" >11.89%</td>\n",
       "                        <td id=\"T_32ce851c_97b9_11eb_920a_b42e99f28c20row13_col1\" class=\"data row13 col1\" >0.01%</td>\n",
       "            </tr>\n",
       "            <tr>\n",
       "                        <th id=\"T_32ce851c_97b9_11eb_920a_b42e99f28c20level0_row14\" class=\"row_heading level0 row14\" >70%</th>\n",
       "                        <td id=\"T_32ce851c_97b9_11eb_920a_b42e99f28c20row14_col0\" class=\"data row14 col0\" >15.27%</td>\n",
       "                        <td id=\"T_32ce851c_97b9_11eb_920a_b42e99f28c20row14_col1\" class=\"data row14 col1\" >0.02%</td>\n",
       "            </tr>\n",
       "            <tr>\n",
       "                        <th id=\"T_32ce851c_97b9_11eb_920a_b42e99f28c20level0_row15\" class=\"row_heading level0 row15\" >75%</th>\n",
       "                        <td id=\"T_32ce851c_97b9_11eb_920a_b42e99f28c20row15_col0\" class=\"data row15 col0\" >19.48%</td>\n",
       "                        <td id=\"T_32ce851c_97b9_11eb_920a_b42e99f28c20row15_col1\" class=\"data row15 col1\" >0.02%</td>\n",
       "            </tr>\n",
       "            <tr>\n",
       "                        <th id=\"T_32ce851c_97b9_11eb_920a_b42e99f28c20level0_row16\" class=\"row_heading level0 row16\" >80%</th>\n",
       "                        <td id=\"T_32ce851c_97b9_11eb_920a_b42e99f28c20row16_col0\" class=\"data row16 col0\" >24.71%</td>\n",
       "                        <td id=\"T_32ce851c_97b9_11eb_920a_b42e99f28c20row16_col1\" class=\"data row16 col1\" >0.03%</td>\n",
       "            </tr>\n",
       "            <tr>\n",
       "                        <th id=\"T_32ce851c_97b9_11eb_920a_b42e99f28c20level0_row17\" class=\"row_heading level0 row17\" >85%</th>\n",
       "                        <td id=\"T_32ce851c_97b9_11eb_920a_b42e99f28c20row17_col0\" class=\"data row17 col0\" >31.25%</td>\n",
       "                        <td id=\"T_32ce851c_97b9_11eb_920a_b42e99f28c20row17_col1\" class=\"data row17 col1\" >0.03%</td>\n",
       "            </tr>\n",
       "            <tr>\n",
       "                        <th id=\"T_32ce851c_97b9_11eb_920a_b42e99f28c20level0_row18\" class=\"row_heading level0 row18\" >90%</th>\n",
       "                        <td id=\"T_32ce851c_97b9_11eb_920a_b42e99f28c20row18_col0\" class=\"data row18 col0\" >39.49%</td>\n",
       "                        <td id=\"T_32ce851c_97b9_11eb_920a_b42e99f28c20row18_col1\" class=\"data row18 col1\" >0.04%</td>\n",
       "            </tr>\n",
       "            <tr>\n",
       "                        <th id=\"T_32ce851c_97b9_11eb_920a_b42e99f28c20level0_row19\" class=\"row_heading level0 row19\" >95%</th>\n",
       "                        <td id=\"T_32ce851c_97b9_11eb_920a_b42e99f28c20row19_col0\" class=\"data row19 col0\" >49.78%</td>\n",
       "                        <td id=\"T_32ce851c_97b9_11eb_920a_b42e99f28c20row19_col1\" class=\"data row19 col1\" >0.05%</td>\n",
       "            </tr>\n",
       "    </tbody></table>"
      ],
      "text/plain": [
       "<pandas.io.formats.style.Styler at 0x210527d5cd0>"
      ]
     },
     "execution_count": 40,
     "metadata": {},
     "output_type": "execute_result"
    }
   ],
   "source": [
    "default_correl_df"
   ]
  },
  {
   "cell_type": "code",
   "execution_count": 41,
   "metadata": {},
   "outputs": [
    {
     "data": {
      "image/png": "[encoded data removed]",
      "text/plain": [
       "<Figure size 432x288 with 1 Axes>"
      ]
     },
     "metadata": {},
     "output_type": "display_data"
    }
   ],
   "source": [
    "default_correl_df_bis = generate_default_correlation_table(portfolio=portfolio_exercice_2, transition_probability_getter_correl=transition_probability_getter, style_prc=False) # To be able to plot it !\n",
    "plt.plot(default_correl_df_bis.index, default_correl_df_bis['Default Correlation'].values)\n",
    "plt.xlabel('Correlation between the bonds')\n",
    "plt.ylabel('Default correlation')\n",
    "plt.title(\"Default Correlation in Function of the Correlation\")\n",
    "plt.xticks(rotation= 45)\n",
    "plt.show()"
   ]
  },
  {
   "cell_type": "markdown",
   "metadata": {},
   "source": [
    "### Part 2 - Credit Value at Risk"
   ]
  },
  {
   "cell_type": "code",
   "execution_count": 42,
   "metadata": {},
   "outputs": [],
   "source": [
    "covariance_exercice_2_2 = np.array([[1, 0.99],[0.99, 1]])"
   ]
  },
  {
   "cell_type": "code",
   "execution_count": 43,
   "metadata": {},
   "outputs": [],
   "source": [
    "class CreditVarEngineExercie2:\n",
    "    \n",
    "    def __init__(self):\n",
    "        self.rating = ['AAA', 'AA', 'A', 'BBB', 'BB', 'B', 'CCC', 'Default']\n",
    "    \n",
    "    def compute(self, portfolio: Portfolio, \n",
    "                transition_probability_getter: TransitionProbabilityGetter, \n",
    "                model: BondValuationModel, \n",
    "                forward_market: Market, \n",
    "                horizon: int, \n",
    "                probability: float, \n",
    "                cov_matrix: np.ndarray):\n",
    "        if len(portfolio.list_derivatives)!=2:\n",
    "            raise ValueError(\"The portfolio must contains 2 bonds\")\n",
    "        portfolio = self.update_maturity(portfolio, horizon)\n",
    "        scenarios = self.generate_scenarios(portfolio)\n",
    "        scenarios_valuations = self.valuate_scenarios(scenarios, model, forward_market, horizon, portfolio)\n",
    "        scenarios_probabilities = self.compute_scenario_probabilities(portfolio, scenarios, transition_probability_getter, cov_matrix)\n",
    "        return self.evaluate_credit_var(scenarios_valuations, scenarios_probabilities, probability)\n",
    "    \n",
    "    def update_maturity(self, portfolio: Portfolio, horizon: int):\n",
    "        portfolio_temp = deepcopy(portfolio)\n",
    "        for bond in portfolio_temp.list_derivatives:\n",
    "            bond.maturity -= horizon\n",
    "        return portfolio_temp\n",
    "    \n",
    "    \n",
    "    # Scenarios generation\n",
    "    \n",
    "    def generate_scenarios(self, portfolio: Portfolio):\n",
    "        list_possible_rating = self.__generate_grid(portfolio)\n",
    "        return self.__generate_list_portfolios(list_possible_rating, portfolio)\n",
    "        \n",
    "    def __generate_grid(self, portfolio: Portfolio):\n",
    "        list_possible_rating = []\n",
    "        for bond in portfolio.list_derivatives:\n",
    "            list_possible_rating.append(deepcopy(self.rating))\n",
    "        return list(itertools.product(*list_possible_rating))\n",
    "        \n",
    "    def __generate_list_portfolios(self, list_possible_rating: list, portfolio: Portfolio):\n",
    "        scenarios = []\n",
    "        for scenario in list_possible_rating:\n",
    "            scenarios.append(self.__create_portfolio_scenario(scenario, portfolio))\n",
    "        return scenarios\n",
    "            \n",
    "    def __create_portfolio_scenario(self, ratings_scenario: list, portfolio: Portfolio):\n",
    "        portfolio_temp = deepcopy(portfolio)\n",
    "        for i in range(len(ratings_scenario)):\n",
    "            portfolio_temp.list_derivatives[i].rating = ratings_scenario[i]\n",
    "        return portfolio_temp\n",
    "    \n",
    "    \n",
    "    # Scenarios valuation - naive approach\n",
    "    \n",
    "    def valuate_scenarios(self, scenarios: list, model: BondValuationModel, market: Market, horizon: int, portfolio: Portfolio):\n",
    "        cash_flows = self.__compute_cash_flows(portfolio, horizon)\n",
    "        valuations = []\n",
    "        for scena in scenarios:\n",
    "            valuations.append(self.__valuate_one_scenario(portfolio=scena, model=model, market=market) + cash_flows)\n",
    "        return valuations\n",
    "            \n",
    "    def __valuate_one_scenario(self, portfolio: Portfolio, model: BondValuationModel, market: Market):\n",
    "        value = 0.0\n",
    "        for bond in portfolio.list_derivatives:\n",
    "            value += model.price(bond, market.get_market_data(bond.rating))\n",
    "        return value\n",
    "    \n",
    "    def __compute_cash_flows(self, portfolio: Portfolio, horizon: int):\n",
    "        cash = 0.0\n",
    "        for bond in portfolio.list_derivatives:\n",
    "            cash += bond.coupon_rate * bond.nominal * horizon\n",
    "        return cash\n",
    "    \n",
    "    \n",
    "    # Scenarios probability\n",
    "    \n",
    "    def compute_scenario_probabilities(self, portfolio: Portfolio, scenarios: list, transition_probability_getter: TransitionProbabilityGetter, cov_matrix: np.ndarray):\n",
    "        scenario_probabilities = []\n",
    "        for scena in scenarios:\n",
    "            scenario_probabilities.append(transition_probability_getter.compute_scenario_probabilities(scena, portfolio, cov_matrix))\n",
    "        return scenario_probabilities\n",
    "            \n",
    "    \n",
    "    \n",
    "    # Credit Value at Risk computation\n",
    "    \n",
    "    def evaluate_credit_var(self, scenarios_values: list, scenarios_probabilities: list, percentage_var: float):\n",
    "        expectation = self.compute_expectation(scenarios_values, scenarios_probabilities)\n",
    "        quantile = self.compute_quantile(scenarios_values, scenarios_probabilities, percentage_var)\n",
    "        return expectation - quantile\n",
    "    \n",
    "    def compute_quantile(self, scenarios_values: list, scenarios_probabilities: list, percentage_var: float):\n",
    "        # For more infos: https://www.kite.com/python/answers/how-to-sort-two-lists-together-in-python\n",
    "        zipped_lists = zip(scenarios_values, scenarios_probabilities)\n",
    "        sorted_pairs = sorted(zipped_lists)\n",
    "        tuples = zip(*sorted_pairs)\n",
    "        scenarios_values, scenarios_probabilities = [list(tuple_) for tuple_ in  tuples]\n",
    "        sum_proba = 0.0\n",
    "        for i in range(len(scenarios_probabilities)):\n",
    "            sum_proba += scenarios_probabilities[i]\n",
    "            if sum_proba > (1.0-percentage_var):\n",
    "                return scenarios_values[i]\n",
    "        raise ValueError('The sum of the scenarios_probabilities is below 1.0')\n",
    "    \n",
    "    def compute_expectation(self, scenarios_values: list, scenarios_probabilities: list):\n",
    "        expectation = 0.0\n",
    "        for i in range(len(scenarios_values)):\n",
    "            expectation += scenarios_values[i] * scenarios_probabilities[i]\n",
    "        return expectation\n",
    "    \n",
    "    def compute_standard_deviation(self, scenarios_values: list, scenarios_probabilities: list):\n",
    "        expectation = self.compute_expectation(scenarios_values, scenarios_probabilities)\n",
    "        variance = 0.0\n",
    "        for i in range(len(scenarios_values)):\n",
    "            variance += scenarios_probabilities[i] * (scenarios_values[i]-expectation)** 2 \n",
    "        return np.sqrt(variance)\n",
    "    \n",
    "    def compute_proxy_credit_var(self, scenarios_values: list, scenarios_probabilities: list, percentage_var: float):\n",
    "        return norm.ppf(percentage_var) * self.compute_standard_deviation(scenarios_values, scenarios_probabilities)"
   ]
  },
  {
   "cell_type": "code",
   "execution_count": 44,
   "metadata": {},
   "outputs": [],
   "source": [
    "var_engine_exercice_2 = CreditVarEngineExercie2()"
   ]
  },
  {
   "cell_type": "code",
   "execution_count": 45,
   "metadata": {},
   "outputs": [
    {
     "data": {
      "text/plain": [
       "12.030838281167291"
      ]
     },
     "execution_count": 45,
     "metadata": {},
     "output_type": "execute_result"
    }
   ],
   "source": [
    "var_engine_exercice_2.compute(portfolio=portfolio_exercice_2, \n",
    "                              transition_probability_getter=transition_probability_getter, \n",
    "                              model=model, \n",
    "                              forward_market=forward_market_exercice_2, \n",
    "                              horizon=1, \n",
    "                              probability=0.99,\n",
    "                              cov_matrix=covariance_exercice_2_2)"
   ]
  },
  {
   "cell_type": "code",
   "execution_count": 46,
   "metadata": {},
   "outputs": [],
   "source": [
    "# Details\n",
    "portfolio_temp_exercice_2 = var_engine_exercice_2.update_maturity(portfolio_exercice_2, 1)\n",
    "scenarios_exercice_2 = var_engine_exercice_2.generate_scenarios(portfolio_temp_exercice_2)\n",
    "scenarios_values_exercice_2 = var_engine_exercice_2.valuate_scenarios(scenarios=scenarios_exercice_2, \n",
    "                                                                      model=model, \n",
    "                                                                      horizon=1, \n",
    "                                                                      market=forward_market_exercice_2, \n",
    "                                                                      portfolio=portfolio_temp_exercice_2)\n",
    "scenario_probability_exercice_2 = var_engine_exercice_2.compute_scenario_probabilities(portfolio=portfolio_temp_exercice_2, \n",
    "                                                                                       scenarios=scenarios_exercice_2, \n",
    "                                                                                       transition_probability_getter=transition_probability_getter, \n",
    "                                                                                       cov_matrix=covariance_exercice_2_2)\n",
    "expectation_exercice_2 = var_engine_exercice_2.compute_expectation(scenarios_values_exercice_2, scenario_probability_exercice_2)\n",
    "standard_dev_exercice_2 = var_engine_exercice_2.compute_standard_deviation(scenarios_values_exercice_2, scenario_probability_exercice_2)\n",
    "quantile_99_exercice_2 = var_engine_exercice_2.compute_quantile(scenarios_values_exercice_2, scenario_probability_exercice_2, 0.99)\n",
    "credit_var_exercice_2 = var_engine_exercice_2.evaluate_credit_var(scenarios_values_exercice_2, scenario_probability_exercice_2, 0.99)\n",
    "proxy_credit_var_exercice_2 = var_engine_exercice_2.compute_proxy_credit_var(scenarios_values_exercice_2, scenario_probability_exercice_2, 0.99)"
   ]
  },
  {
   "cell_type": "code",
   "execution_count": 47,
   "metadata": {},
   "outputs": [
    {
     "name": "stdout",
     "output_type": "stream",
     "text": [
      "Expectation: 213.26821505718468\n",
      "Standard Deviation: 4.086352257897711\n",
      "Quantile 99%: 201.23737677601738\n",
      "Credit Value at Risk: 12.030838281167291\n",
      "Proxy: 9.50627688774233\n"
     ]
    }
   ],
   "source": [
    "print('Expectation:', expectation_exercice_2)\n",
    "print('Standard Deviation:', standard_dev_exercice_2)\n",
    "print('Quantile 99%:', quantile_99_exercice_2)\n",
    "print('Credit Value at Risk:', credit_var_exercice_2)\n",
    "print('Proxy:', proxy_credit_var_exercice_2)"
   ]
  },
  {
   "cell_type": "markdown",
   "metadata": {},
   "source": [
    "# Exercice 3- Monte Carlo Credit Value at Risk"
   ]
  },
  {
   "cell_type": "markdown",
   "metadata": {},
   "source": [
    "Please consider a portfolio of 20 bonds<br>\n",
    "\n",
    "| Asset | Credit       Rating | Nominal                | COUPON | Maturity       (years) | Recovery Rate |\n",
    "|:-----:|:-------------------:|:----------------------:|--------|:----------------------:|:-------------:|\n",
    "|   1   | AAA                 |        7 000 000       |   6%   |            3           |      70%      |\n",
    "|   2   | AA                  |      1 000 000         |  6,50% |            4           |      70%      |\n",
    "|   3   | A                   |      1 000 000         |   7%   |            3           |      70%      |\n",
    "|   4   | BBB                 |      1 000 000         |   8%   |            4           |      30%      |\n",
    "|   5   | BBB                 |      1 000 000         |   8%   |            3           |      30%      |\n",
    "|   6   | B                   |      1 000 000         |   10%  |            4           |      40%      |\n",
    "|   7   | CCC                 |      1 000 000         |   10%  |            2           |      40%      |\n",
    "|   8   | A                   |    10 000 000          |   5%   |            8           |      70%      |\n",
    "|   9   | BB                  |      5 000 000         |   6%   |            2           |      40%      |\n",
    "|   10  | A                   |      3 000 000         |   6%   |            2           |      70%      |\n",
    "|   11  | A                   |      1 000 000         |   6%   |            4           |      70%      |\n",
    "|   12  | A                   |      2 000 000         |  6,50% |            5           |      70%      |\n",
    "|   13  | B                   |         600 000        |   8%   |            3           |      40%      |\n",
    "|   14  | B                   |      1 000 000         |   8%   |            2           |      40%      |\n",
    "|   15  | B                   |      3 000 000         |   8%   |            2           |      40%      |\n",
    "|   16  | B                   |      2 000 000         |   8%   |            4           |      40%      |\n",
    "|   17  | BBB                 |      1 000 000         |   10%  |            6           |      30%      |\n",
    "|   18  | BBB                 |      8 000 000         |   10%  |            5           |      30%      |\n",
    "|   19  | BBB                 |      1 000 000         |   10%  |            3           |      30%      |\n",
    "|   20  | AA                  |      5 000 000         |   5%   |            5           |      70%      |\n",
    "\n",
    "The aim of the exercise is to compute the Credit Value at Risk using Monte Carlo simulations. <br>\n",
    "The portfolio is composed of 20 correlated bond with the folowing correlation matrix:\n",
    "\n",
    "| Asset |       1       |       2       |       3       |         4         |       5       |       6       |           7          |        8        |        9        |        10       |        11       |        12       |        13       |        14       |        15       |        16       |        17       |        18       |        19       |        20       |\n",
    "|-------|:-------------:|:-------------:|:-------------:|:-----------------:|:-------------:|:-------------:|:--------------------:|:---------------:|:---------------:|:---------------:|:---------------:|:---------------:|:---------------:|:---------------:|:---------------:|:---------------:|:---------------:|:---------------:|:---------------:|:---------------:|\n",
    "| 1     |        1,0    |      0.45     |      0.45     |        0.45       |      0.15     |      0.15     |         0.15         |       0.15      |       0.15      |       0.15      |       0.1       |       0.1       |       0.1       |       0.1       |       0.1       |       0.1       |       0.1       |       0.1       |       0.1       |       0.1       |\n",
    "| 2     |      0.45     |        1,0    |      0.45     |        0.45       |      0.15     |      0.15     |         0.15         |       0.15      |       0.15      |       0.15      |       0.1       |       0.1       |       0.1       |       0.1       |       0.1       |       0.1       |       0.1       |       0.1       |       0.1       |       0.1       |\n",
    "| 3     |      0.45     |      0.45     |        1,0    |        0.45       |      0.15     |      0.15     |         0.15         |       0.15      |       0.15      |       0.15      |       0.1       |       0.1       |       0.1       |       0.1       |       0.1       |       0.1       |       0.1       |       0.1       |       0.1       |       0.1       |\n",
    "| 4     |      0.45     |      0.45     |      0.45     |            1,0    |      0.15     |      0.15     |         0.15         |       0.15      |       0.15      |       0.15      |       0.1       |       0.1       |       0.1       |       0.1       |       0.1       |       0.1       |       0.1       |       0.1       |       0.1       |       0.1       |\n",
    "| 5     |      0.15     |      0.15     |      0.15     |        0.15       |        1,0    |      0.35     |         0.35         |       0.35      |       0.35      |       0.35      |       0.2       |       0.2       |       0.2       |       0.2       |       0.2       |       0.15      |       0.15      |       0.15      |       0.1       |       0.1       |\n",
    "| 6     |      0.15     |      0.15     |      0.15     |        0.15       |      0.35     |        1,0    |         0.35         |       0.35      |       0.35      |       0.35      |       0.2       |       0.2       |       0.2       |       0.2       |       0.2       |       0.15      |       0.15      |       0.15      |       0.1       |       0.1       |\n",
    "| 7     |      0.15     |      0.15     |      0.15     |        0.15       |      0.35     |      0.35     |               1,0    |       0.35      |       0.35      |       0.35      |       0.2       |       0.2       |       0.2       |       0.2       |       0.2       |       0.15      |       0.15      |       0.15      |       0.1       |       0.1       |\n",
    "| 8     |      0.15     |      0.15     |      0.15     |        0.15       |      0.35     |      0.35     |         0.35         |          1,0    |       0.25      |       0.35      |       0.2       |       0.2       |       0.2       |       0.2       |       0.2       |       0.15      |       0.15      |       0.15      |       0.1       |       0.1       |\n",
    "| 9     |      0.15     |      0.15     |      0.15     |        0.15       |      0.35     |      0.35     |         0.35         |       0.25      |          1,0    |       0.35      |       0.2       |       0.2       |       0.2       |       0.2       |       0.2       |       0.15      |       0.15      |       0.15      |       0.1       |       0.1       |\n",
    "| 10    |      0.15     |      0.15     |      0.15     |        0.15       |      0.35     |      0.35     |         0.35         |       0.35      |       0.35      |          1,0    |       0.2       |       0.2       |       0.2       |       0.2       |       0.2       |       0.15      |       0.15      |       0.15      |       0.1       |       0.1       |\n",
    "| 11    |      0.1      |      0.1      |      0.1      |        0.1        |      0.2      |      0.2      |          0.2         |       0.2       |       0.2       |       0.2       |          1,0    |       0.45      |       0.45      |       0.45      |       0.45      |       0.2       |       0.2       |       0.2       |       0.1       |       0.1       |\n",
    "| 12    |      0.1      |      0.1      |      0.1      |        0.1        |      0.2      |      0.2      |          0.2         |       0.2       |       0.2       |       0.2       |       0.45      |          1,0    |       0.45      |       0.45      |       0.45      |       0.2       |       0.2       |       0.2       |       0.1       |       0.1       |\n",
    "| 13    |      0.1      |      0.1      |      0.1      |        0.1        |      0.2      |      0.2      |          0.2         |       0.2       |       0.2       |       0.2       |       0.45      |       0.45      |          1,0    |       0.45      |       0.45      |       0.2       |       0.2       |       0.2       |       0.1       |       0.1       |\n",
    "| 14    |      0.1      |      0.1      |      0.1      |        0.1        |      0.2      |      0.2      |          0.2         |       0.2       |       0.2       |       0.2       |       0.45      |       0.45      |       0.45      |          1,0    |       0.45      |       0.2       |       0.2       |       0.2       |       0.1       |       0.1       |\n",
    "| 15    |      0.1      |      0.1      |      0.1      |        0.1        |      0.2      |      0.2      |          0.2         |       0.2       |       0.2       |       0.2       |       0.45      |       0.45      |       0.45      |       0.45      |          1,0    |       0.2       |       0.2       |       0.2       |       0.1       |       0.1       |\n",
    "| 16    |      0.1      |      0.1      |      0.1      |        0.1        |      0.15     |      0.15     |         0.15         |       0.15      |       0.15      |       0.15      |       0.2       |       0.2       |       0.2       |       0.2       |       0.2       |          1,0    |       0.55      |       0.55      |       0.25      |       0.25      |\n",
    "| 17    |      0.1      |      0.1      |      0.1      |        0.1        |      0.15     |      0.15     |         0.15         |       0.15      |       0.15      |       0.15      |       0.2       |       0.2       |       0.2       |       0.2       |       0.2       |       0.55      |          1,0    |       0.55      |       0.25      |       0.25      |\n",
    "| 18    |      0.1      |      0.1      |      0.1      |        0.1        |      0.15     |      0.15     |         0.15         |       0.15      |       0.15      |       0.15      |       0.2       |       0.2       |       0.2       |       0.2       |       0.2       |       0.55      |       0.55      |          1,0    |       0.25      |       0.25      |\n",
    "| 19    |      0.1      |      0.1      |      0.1      |        0.1        |      0.1      |      0.1      |          0.1         |       0.1       |       0.1       |       0.1       |       0.1       |       0.1       |       0.1       |       0.1       |       0.1       |       0.25      |       0.25      |       0.25      |          1,0    |       0.65      |\n",
    "| 20    |      0.1      |      0.1      |      0.1      |        0.1        |      0.1      |      0.1      |          0.1         |       0.1       |       0.1       |       0.1       |       0.1       |       0.1       |       0.1       |       0.1       |       0.1       |       0.25      |       0.25      |       0.25      |       0.65      |          1,0    |"
   ]
  },
  {
   "cell_type": "markdown",
   "metadata": {},
   "source": [
    "### Market data"
   ]
  },
  {
   "cell_type": "code",
   "execution_count": 48,
   "metadata": {},
   "outputs": [],
   "source": [
    "maturities = np.array([1, 2, 3, 4, 5, 6, 7, 8])\n",
    "\n",
    "ir_curve = np.array([0.04, 0.04, 0.04, 0.04, 0.04, 0.04, 0.04, 0.04])\n",
    "\n",
    "aaa_rates = ir_curve + 0.002\n",
    "aaa_ir_curve = InterestRateCurve(name='AAA', curve=aaa_rates, maturities=maturities)\n",
    "\n",
    "aa_rates = ir_curve + 0.003\n",
    "aa_ir_curve = InterestRateCurve(name='AA', curve=aa_rates, maturities=maturities)\n",
    "\n",
    "a_rates = ir_curve + 0.005\n",
    "a_ir_curve = InterestRateCurve(name='A', curve=a_rates, maturities=maturities)\n",
    "\n",
    "bbb_rates = ir_curve + 0.015\n",
    "bbb_ir_curve = InterestRateCurve(name='BBB', curve=bbb_rates, maturities=maturities)\n",
    "\n",
    "bb_rates = ir_curve + 0.02\n",
    "bb_ir_curve = InterestRateCurve(name='BB', curve=bb_rates, maturities=maturities)\n",
    "\n",
    "b_rates = ir_curve + 0.03\n",
    "b_ir_curve = InterestRateCurve(name='B', curve=b_rates, maturities=maturities)\n",
    "\n",
    "ccc_rates = ir_curve + 0.05\n",
    "ccc_ir_curve = InterestRateCurve(name='CCC', curve=ccc_rates, maturities=maturities)\n",
    "\n",
    "default_rates = np.array([])\n",
    "default_ir_curve = InterestRateCurve(name='Default', curve=default_rates, maturities=maturities)\n",
    "forward_market_exercice_3 = Market([aaa_ir_curve, aa_ir_curve, a_ir_curve, bbb_ir_curve, bb_ir_curve, b_ir_curve, ccc_ir_curve, default_ir_curve])"
   ]
  },
  {
   "cell_type": "code",
   "execution_count": 49,
   "metadata": {},
   "outputs": [],
   "source": [
    "covariance_exercice_3 = [[1.0, 0.45, 0.45, 0.45, 0.15, 0.15, 0.15, 0.15, 0.15, 0.15, 0.1, 0.1, 0.1, 0.1, 0.1, 0.1, 0.1, 0.1, 0.1, 0.1],\n",
    "                         [0.45, 1.0, 0.45, 0.45, 0.15, 0.15, 0.15, 0.15, 0.15, 0.15, 0.1, 0.1, 0.1, 0.1, 0.1, 0.1, 0.1, 0.1, 0.1, 0.1],\n",
    "                         [0.45, 0.45, 1.0, 0.45, 0.15, 0.15, 0.15, 0.15, 0.15, 0.15, 0.1, 0.1, 0.1, 0.1, 0.1, 0.1, 0.1, 0.1, 0.1, 0.1],\n",
    "                         [0.45, 0.45, 0.45, 1.0, 0.15, 0.15, 0.15, 0.15, 0.15, 0.15, 0.1, 0.1, 0.1, 0.1, 0.1, 0.1, 0.1, 0.1, 0.1, 0.1],\n",
    "                         [0.15, 0.15, 0.15, 0.15, 1.0, 0.35, 0.35, 0.35, 0.35, 0.35, 0.2, 0.2, 0.2, 0.2, 0.2, 0.15, 0.15, 0.15, 0.1, 0.1],\n",
    "                         [0.15, 0.15, 0.15, 0.15, 0.35, 1.0, 0.35, 0.35, 0.35, 0.35, 0.2, 0.2, 0.2, 0.2, 0.2, 0.15, 0.15, 0.15, 0.1, 0.1],\n",
    "                         [0.15, 0.15, 0.15, 0.15, 0.35, 0.35, 1.0, 0.35, 0.35, 0.35, 0.2, 0.2, 0.2, 0.2, 0.2, 0.15, 0.15, 0.15, 0.1, 0.1],\n",
    "                         [0.15, 0.15, 0.15, 0.15, 0.35, 0.35, 0.35, 1.0, 0.25, 0.35, 0.2, 0.2, 0.2, 0.2, 0.2, 0.15, 0.15, 0.15, 0.1, 0.1],\n",
    "                         [0.15, 0.15, 0.15, 0.15, 0.35, 0.35, 0.35, 0.25, 1.0, 0.35, 0.2, 0.2, 0.2, 0.2, 0.2, 0.15, 0.15, 0.15, 0.1, 0.1],\n",
    "                         [0.15, 0.15, 0.15, 0.15, 0.35, 0.35, 0.35, 0.35, 0.35, 1.0, 0.2, 0.2, 0.2, 0.2, 0.2, 0.15, 0.15, 0.15, 0.1, 0.1],\n",
    "                         [0.1, 0.1, 0.1, 0.1, 0.2, 0.2, 0.2, 0.2, 0.2, 0.2, 1.0, 0.45, 0.45, 0.45, 0.45, 0.2, 0.2, 0.2, 0.1, 0.1],\n",
    "                         [0.1, 0.1, 0.1, 0.1, 0.2, 0.2, 0.2, 0.2, 0.2, 0.2, 0.45, 1.0, 0.45, 0.45, 0.45, 0.2, 0.2, 0.2, 0.1, 0.1],\n",
    "                         [0.1, 0.1, 0.1, 0.1, 0.2, 0.2, 0.2, 0.2, 0.2, 0.2, 0.45, 0.45, 1.0, 0.45, 0.45, 0.2, 0.2, 0.2, 0.1, 0.1],\n",
    "                         [0.1, 0.1, 0.1, 0.1, 0.2, 0.2, 0.2, 0.2, 0.2, 0.2, 0.45, 0.45, 0.45, 1.0, 0.45, 0.2, 0.2, 0.2, 0.1, 0.1],\n",
    "                         [0.1, 0.1, 0.1, 0.1, 0.2, 0.2, 0.2, 0.2, 0.2, 0.2, 0.45, 0.45, 0.45, 0.45, 1.0, 0.2, 0.2, 0.2, 0.1, 0.1],\n",
    "                         [0.1, 0.1, 0.1, 0.1, 0.15, 0.15, 0.15, 0.15, 0.15, 0.15, 0.2, 0.2, 0.2, 0.2, 0.2, 1.0, 0.55, 0.55, 0.25, 0.25],\n",
    "                         [0.1, 0.1, 0.1, 0.1, 0.15, 0.15, 0.15, 0.15, 0.15, 0.15, 0.2, 0.2, 0.2, 0.2, 0.2, 0.55, 1.0, 0.55, 0.25, 0.25],\n",
    "                         [0.1, 0.1, 0.1, 0.1, 0.15, 0.15, 0.15, 0.15, 0.15, 0.15, 0.2, 0.2, 0.2, 0.2, 0.2, 0.55, 0.55, 1.0, 0.25, 0.25],\n",
    "                         [0.1, 0.1, 0.1, 0.1, 0.1, 0.1, 0.1, 0.1, 0.1, 0.1, 0.1, 0.1, 0.1, 0.1, 0.1, 0.25, 0.25, 0.25, 1.0, 0.65],\n",
    "                         [0.1, 0.1, 0.1, 0.1, 0.1, 0.1, 0.1, 0.1, 0.1, 0.1, 0.1, 0.1, 0.1, 0.1, 0.1, 0.25, 0.25, 0.25, 0.65, 1.0]]\n",
    "covariance_exercice_3 = np.array(covariance_exercice_3)"
   ]
  },
  {
   "cell_type": "markdown",
   "metadata": {},
   "source": [
    "### Transition Thresholds"
   ]
  },
  {
   "cell_type": "code",
   "execution_count": 50,
   "metadata": {},
   "outputs": [],
   "source": [
    "transition_thresholds_exercice_3 = {}\n",
    "transition_thresholds_exercice_3['AAA'] = [-1.329, -2.382, -2.911, -3.036, -10.000, -10.000, -10.000]\n",
    "transition_thresholds_exercice_3['AA'] = [2.46, -1.36, -2.38, -2.85, -2.95, -3.54, -10.0]\n",
    "transition_thresholds_exercice_3['A'] = [3.12, 1.98, -1.51, -2.30, -2.72, -3.19, -3.24]\n",
    "transition_thresholds_exercice_3['BBB'] = [3.540, 2.70, 1.53, -1.49, -2.18, -2.75, -2.91]\n",
    "transition_thresholds_exercice_3['BB'] = [3.432, 2.929, 2.391, 1.368, -1.232, -2.042, -2.304]\n",
    "transition_thresholds_exercice_3['B'] = [10.0, 3.06, 2.70, 2.42, 1.46, -1.32, -1.62]\n",
    "transition_thresholds_exercice_3['CCC'] = [2.85, 2.85, 2.62, 2.11, 1.74, 1.02, -0.85]\n",
    "transition_thresholds_exercice_3['Default'] = [10.0, 10.0, 10.0, 10.0, 10.0, 10.0, 10.0]"
   ]
  },
  {
   "cell_type": "markdown",
   "metadata": {},
   "source": [
    "### Portfolio"
   ]
  },
  {
   "cell_type": "code",
   "execution_count": 51,
   "metadata": {},
   "outputs": [],
   "source": [
    "bond_1 = Bond(rating='AAA', nominal=7000000, coupon_rate=0.06, maturity=3, recovery_rate=0.70)\n",
    "bond_2 = Bond(rating='AA', nominal=1000000, coupon_rate=0.065, maturity=4, recovery_rate=0.70)\n",
    "bond_3 = Bond(rating='A', nominal=1000000, coupon_rate=0.07, maturity=3, recovery_rate=0.70)\n",
    "bond_4 = Bond(rating='BBB', nominal=1000000, coupon_rate=0.08, maturity=4, recovery_rate=0.30)\n",
    "bond_5 = Bond(rating='BBB', nominal=1000000, coupon_rate=0.08, maturity=3, recovery_rate=0.30)\n",
    "bond_6 = Bond(rating='B', nominal=1000000, coupon_rate=0.10, maturity=4, recovery_rate=0.40)\n",
    "bond_7 = Bond(rating='CCC', nominal=1000000, coupon_rate=0.10, maturity=2, recovery_rate=0.40)\n",
    "bond_8 = Bond(rating='A', nominal=10000000, coupon_rate=0.05, maturity=8, recovery_rate=0.70)\n",
    "bond_9 = Bond(rating='BB', nominal=5000000, coupon_rate=0.06, maturity=2, recovery_rate=0.40)\n",
    "bond_10 = Bond(rating='A', nominal=3000000, coupon_rate=0.06, maturity=2, recovery_rate=0.70)\n",
    "bond_11 = Bond(rating='A', nominal=1000000, coupon_rate=0.06, maturity=4, recovery_rate=0.70)\n",
    "bond_12 = Bond(rating='A', nominal=2000000, coupon_rate=0.065, maturity=5, recovery_rate=0.70)\n",
    "bond_13 = Bond(rating='B', nominal=600000, coupon_rate=0.08, maturity=3, recovery_rate=0.40)\n",
    "bond_14 = Bond(rating='B', nominal=1000000, coupon_rate=0.08, maturity=2, recovery_rate=0.40)\n",
    "bond_15 = Bond(rating='B', nominal=3000000, coupon_rate=0.08, maturity=2, recovery_rate=0.40)\n",
    "bond_16 = Bond(rating='B', nominal=2000000, coupon_rate=0.08, maturity=4, recovery_rate=0.40)\n",
    "bond_17 = Bond(rating='BBB', nominal=1000000, coupon_rate=0.10, maturity=6, recovery_rate=0.30)\n",
    "bond_18 = Bond(rating='BBB', nominal=8000000, coupon_rate=0.10, maturity=5, recovery_rate=0.30)\n",
    "bond_19 = Bond(rating='BBB', nominal=1000000, coupon_rate=0.10, maturity=3, recovery_rate=0.30)\n",
    "bond_20 = Bond(rating='AA', nominal=5000000, coupon_rate=0.05, maturity=5, recovery_rate=0.70)\n",
    "portfolio_exercice_3 = Portfolio(list_derivatives=[bond_1, bond_2, bond_3, bond_4, bond_5, bond_6, bond_7,\n",
    "                                                  bond_8, bond_9, bond_10, bond_11, bond_12, bond_13, bond_14,\n",
    "                                                  bond_15, bond_16, bond_17, bond_18, bond_19, bond_20])"
   ]
  },
  {
   "cell_type": "code",
   "execution_count": 52,
   "metadata": {},
   "outputs": [
    {
     "name": "stdout",
     "output_type": "stream",
     "text": [
      "Bond_0's value: 7348338.0\n",
      "Bond_1's value: 1079296.0\n",
      "Bond_2's value: 1068724.0\n",
      "Bond_3's value: 1087629.0\n",
      "Bond_4's value: 1067448.0\n",
      "Bond_5's value: 1101616.0\n",
      "Bond_6's value: 1017591.0\n",
      "Bond_7's value: 10329794.0\n",
      "Bond_8's value: 5000000.0\n",
      "Bond_9's value: 3084270.0\n",
      "Bond_10's value: 1053813.0\n",
      "Bond_11's value: 2175599.0\n",
      "Bond_12's value: 615746.0\n",
      "Bond_13's value: 1018080.0\n",
      "Bond_14's value: 3054241.0\n",
      "Bond_15's value: 2067744.0\n",
      "Bond_16's value: 1224799.0\n",
      "Bond_17's value: 9537302.0\n",
      "Bond_18's value: 1121407.0\n",
      "Bond_19's value: 5154509.0\n",
      "\n",
      "Portfolio's initial value: 59207948.0\n"
     ]
    }
   ],
   "source": [
    "value_init = 0.0\n",
    "i = 0\n",
    "for bond in portfolio_exercice_3.list_derivatives:\n",
    "    value_init += model.price(bond, forward_market_exercice_3.get_market_data(bond.rating))\n",
    "    print(\"Bond_\"+str(i)+\"'s value:\", round(model.price(bond, forward_market_exercice_3.get_market_data(bond.rating))))\n",
    "    i += 1\n",
    "print()\n",
    "print(\"Portfolio's initial value:\", round(value_init))"
   ]
  },
  {
   "cell_type": "markdown",
   "metadata": {},
   "source": [
    "### Credit Value at Risk"
   ]
  },
  {
   "cell_type": "code",
   "execution_count": 53,
   "metadata": {},
   "outputs": [],
   "source": [
    "class CreditVarEngineExercie3:\n",
    "    \n",
    "    def __init__(self):\n",
    "        self.rating = ['AAA', 'AA', 'A', 'BBB', 'BB', 'B', 'CCC', 'Default']\n",
    "    \n",
    "    def compute(self, portfolio: Portfolio, model: BondValuationModel, forward_market: Market, horizon: int, probability: float, cov_matrix: np.ndarray, nb_simulations: int, transition_thresholds: dict):\n",
    "        portfolio = deepcopy(portfolio)\n",
    "        portfolio = self.update_maturity(portfolio, horizon)\n",
    "        scenarios = self.generate_scenarios(portfolio, cov_matrix, nb_simulations, transition_thresholds)\n",
    "        scenarios_valuation = self.valuate_scenarios(scenarios=scenarios, model=model, horizon=horizon, market=forward_market, portfolio=portfolio)\n",
    "        return self.evaluate_credit_var(scenarios_valuation, probability)\n",
    "    \n",
    "    def update_maturity(self, portfolio: Portfolio, horizon: int):\n",
    "        portfolio_temp = deepcopy(portfolio)\n",
    "        for bond in portfolio.list_derivatives:\n",
    "            bond.maturity -= horizon\n",
    "        return portfolio_temp\n",
    "    \n",
    "    \n",
    "    # Scenarios generation\n",
    "    \n",
    "    def generate_scenarios(self, portfolio: Portfolio, cov_matrix: np.ndarray, nb_simulations: int, transition_thresholds: dict):\n",
    "        mean_vector = np.array([[0] for i in range(len(portfolio.list_derivatives))])\n",
    "        #gaussians_correlated = np.random.multivariate_normal(mean_vector, cov_vector, nb_simulations)\n",
    "        gaussians_correlated = self.__generate_gaussian_correlated(nb_simulations, len(portfolio.list_derivatives), mean_vector, cov_matrix)\n",
    "        gaussians_correlated = gaussians_correlated.T\n",
    "        list_scenarios_rating = self.__generate_list_scenarios_rating(gaussians_correlated, transition_thresholds, portfolio)\n",
    "        return self.__generate_list_portfolios(list_scenarios_rating, portfolio)\n",
    "    \n",
    "    def __generate_gaussian_correlated(self, nb_simulations: int, nb_dimension: int, mean_vector: np.ndarray, cov_vector: np.ndarray):\n",
    "        L = np.linalg.cholesky(cov_vector)\n",
    "        X = np.random.normal(size=(nb_dimension, nb_simulations))\n",
    "        return L.dot(X) + mean_vector\n",
    "    \n",
    "    def __generate_list_scenarios_rating(self, gaussians_correlated, transition_thresholds, portfolio: Portfolio):\n",
    "        ratings = []\n",
    "        for correlated_vector in gaussians_correlated:\n",
    "            ratings.append(self.__from_random_variables_to_ratings(gaussian_vector=correlated_vector, transition_thresholds=transition_thresholds, portfolio=portfolio))\n",
    "        return ratings\n",
    "    \n",
    "    def __from_random_variables_to_ratings(self, gaussian_vector, transition_thresholds: dict, portfolio: Portfolio):\n",
    "        one_rating_scenarios = []\n",
    "        i = 0\n",
    "        for random_variable in gaussian_vector:\n",
    "            if random_variable > transition_thresholds[portfolio.list_derivatives[i].rating][0]:\n",
    "                one_rating_scenarios.append('AAA')\n",
    "            elif random_variable > transition_thresholds[portfolio.list_derivatives[i].rating][1]:\n",
    "                one_rating_scenarios.append('AA')\n",
    "            elif random_variable > transition_thresholds[portfolio.list_derivatives[i].rating][2]:\n",
    "                one_rating_scenarios.append('A')\n",
    "            elif random_variable > transition_thresholds[portfolio.list_derivatives[i].rating][3]:\n",
    "                one_rating_scenarios.append('BBB')\n",
    "            elif random_variable > transition_thresholds[portfolio.list_derivatives[i].rating][4]:\n",
    "                one_rating_scenarios.append('BB')\n",
    "            elif random_variable > transition_thresholds[portfolio.list_derivatives[i].rating][5]:\n",
    "                one_rating_scenarios.append('B')\n",
    "            elif random_variable > transition_thresholds[portfolio.list_derivatives[i].rating][6]:\n",
    "                one_rating_scenarios.append('CCC')\n",
    "            else:\n",
    "                one_rating_scenarios.append('Default')\n",
    "            i+=1\n",
    "        return one_rating_scenarios\n",
    "    \n",
    "    def __generate_list_portfolios(self, list_possible_rating: list, portfolio: Portfolio):\n",
    "        scenarios = []\n",
    "        for scenario in list_possible_rating:\n",
    "            scenarios.append(self.__create_portfolio_scenario(scenario, portfolio))\n",
    "        return scenarios\n",
    "            \n",
    "    def __create_portfolio_scenario(self, ratings_scenario: list, portfolio: Portfolio):\n",
    "        portfolio_temp = deepcopy(portfolio)\n",
    "        for i in range(len(ratings_scenario)):\n",
    "            portfolio_temp.list_derivatives[i].rating = ratings_scenario[i]\n",
    "        return portfolio_temp\n",
    "    \n",
    "    \n",
    "\n",
    "    # Scenarios valuation - grid approach\n",
    "    \n",
    "    def valuate_scenarios(self, scenarios: list, model: BondValuationModel, market: Market, horizon: int, portfolio: Portfolio):\n",
    "        cash_flows = self.__compute_cash_flows(portfolio, horizon)\n",
    "        # print('cash_flows=', cash_flows)\n",
    "        possible_valuation_grid = self.compute_each_valuation_grid(portfolio, model, market)\n",
    "        # print(possible_valuation_grid)\n",
    "        valuations = []\n",
    "        for scena in scenarios:\n",
    "            valuations.append(self.__valuate_one_scenario(portfolio=scena, model=model, market=market, valuation_grid=possible_valuation_grid) + cash_flows)\n",
    "        return valuations\n",
    "            \n",
    "    def __valuate_one_scenario(self, portfolio: Portfolio, model: BondValuationModel, market: Market, valuation_grid: list):\n",
    "        value = 0.0\n",
    "        i=0\n",
    "        for bond in portfolio.list_derivatives:\n",
    "            value += valuation_grid[i][bond.rating]\n",
    "            i+=1\n",
    "        return value \n",
    "    \n",
    "    def compute_each_valuation_grid(self, portfolio: Portfolio, model: BondValuationModel, market: Market):\n",
    "        valuation_grid = []\n",
    "        for bond in portfolio.list_derivatives:\n",
    "            valuation_grid.append(self.__compute_each_possible_bond_values(bond, model, market))\n",
    "        return valuation_grid\n",
    "    \n",
    "    def __compute_each_possible_bond_values(self, bond: Bond, model: BondValuationModel, market: Market):\n",
    "        possible_values = {}\n",
    "        bond_temp = deepcopy(bond)\n",
    "        for ra in self.rating:\n",
    "            bond_temp.rating = ra\n",
    "            possible_values[ra] = model.price(bond_temp, market.get_market_data(bond_temp.rating))\n",
    "        return possible_values\n",
    "    \n",
    "    def __compute_cash_flows(self, portfolio: Portfolio, horizon: int):\n",
    "        cash = 0.0\n",
    "        for bond in portfolio.list_derivatives:\n",
    "            cash += bond.coupon_rate * bond.nominal * horizon\n",
    "        return cash\n",
    "    \n",
    "    \n",
    "    # Credit Value at Risk computation\n",
    "    \n",
    "    def evaluate_credit_var(self, scenarios_values: list, percentage_var: float):\n",
    "        quantile = self.compute_quantile(scenarios_values, percentage_var)\n",
    "        expectation = self.compute_expectation(scenarios_values)\n",
    "        return expectation - quantile\n",
    "    \n",
    "    def compute_quantile(self, scenarios_values: list, percentage_var: float):\n",
    "        return np.quantile(scenarios_values, 1-percentage_var)\n",
    "    \n",
    "    def compute_proxy_credit_var(self, scenarios_values: list, percentage_var: float):\n",
    "        return norm.ppf(percentage_var) * self.compute_standard_deviation(scenarios_values)\n",
    "                \n",
    "    def compute_expectation(self, scenarios_values: list):\n",
    "        return np.mean(scenarios_values)\n",
    "    \n",
    "    def compute_standard_deviation(self, scenarios_values: list):\n",
    "        return np.std(scenarios_values)"
   ]
  },
  {
   "cell_type": "code",
   "execution_count": 54,
   "metadata": {},
   "outputs": [],
   "source": [
    "var_engine_exercice_3 = CreditVarEngineExercie3()"
   ]
  },
  {
   "cell_type": "code",
   "execution_count": 55,
   "metadata": {},
   "outputs": [
    {
     "data": {
      "text/plain": [
       "3751799.1583882347"
      ]
     },
     "execution_count": 55,
     "metadata": {},
     "output_type": "execute_result"
    }
   ],
   "source": [
    "var_engine_exercice_3.compute(portfolio=portfolio_exercice_3, \n",
    "                              model=model, \n",
    "                              forward_market=forward_market_exercice_3, \n",
    "                              horizon=1, \n",
    "                              probability=0.99,\n",
    "                              cov_matrix=covariance_exercice_3,\n",
    "                              nb_simulations=10000,\n",
    "                              transition_thresholds=transition_thresholds_exercice_3\n",
    "                             )"
   ]
  },
  {
   "cell_type": "code",
   "execution_count": 56,
   "metadata": {},
   "outputs": [],
   "source": [
    "portfolio_temp = var_engine_exercice_3.update_maturity(portfolio_exercice_3, 1)\n",
    "scenarios_exercice_3 = var_engine_exercice_3.generate_scenarios(portfolio=portfolio_exercice_3, cov_matrix=covariance_exercice_3, nb_simulations=10000, transition_thresholds=transition_thresholds_exercice_3)\n",
    "scenarios_values_exercice_3 = var_engine_exercice_3.valuate_scenarios(scenarios=scenarios_exercice_3, model=model, horizon=1, market=forward_market_exercice_3, portfolio=portfolio_exercice_3)\n",
    "expectation_exercice_3 = var_engine_exercice_3.compute_expectation(scenarios_values_exercice_3)\n",
    "standard_dev_exercice_3 = var_engine_exercice_3.compute_standard_deviation(scenarios_values_exercice_3)\n",
    "quantile_exercice_3 = var_engine_exercice_3.compute_quantile(scenarios_values_exercice_3, 0.99)\n",
    "credit_var_exercice_3 = var_engine_exercice_3.evaluate_credit_var(scenarios_values_exercice_3, 0.99)\n",
    "proxy_credit_var_exercice_3 = var_engine_exercice_3.compute_proxy_credit_var(scenarios_values_exercice_3, 0.99)"
   ]
  },
  {
   "cell_type": "code",
   "execution_count": 57,
   "metadata": {},
   "outputs": [
    {
     "name": "stdout",
     "output_type": "stream",
     "text": [
      "Expectation: 61814775\n",
      "Standard Deviation: 968864\n",
      "Quantile: 58124686\n",
      "Credit Value at Risk: 3690089\n",
      "Proxy: 2253916\n"
     ]
    }
   ],
   "source": [
    "print('Expectation:', int(expectation_exercice_3))\n",
    "print('Standard Deviation:', int(standard_dev_exercice_3))\n",
    "print('Quantile:', int(quantile_exercice_3))\n",
    "print('Credit Value at Risk:', int(credit_var_exercice_3))\n",
    "print('Proxy:', int(proxy_credit_var_exercice_3))"
   ]
  },
  {
   "cell_type": "markdown",
   "metadata": {},
   "source": [
    "# Exercice 4 - Monte Carlo Credit Value at Risk with Stochastic Recovery Rate"
   ]
  },
  {
   "cell_type": "markdown",
   "metadata": {},
   "source": [
    "In the folowing exercice, please consider the exact same exercice than the the exercice 3 (Monte Carlo Credit Value at Risk), but with stochastic recovery rate. <br>\n",
    "The recovery is not constant, this is interesting to measure the risk due to this hypothethis by considering it stochastic this time. <br>\n",
    "Please find below the mean and standard deviation of the recovery rate by seniority class.\n",
    "\n",
    "| Seniority Class     | Mean   (%) | Standard Deviation |\n",
    "|---------------------|------------|--------------------|\n",
    "| Senior Secured      | 53,80      | 26,86              |\n",
    "| Senior Unsecured    | 51,13      | 25,45              |\n",
    "| Senior Subordinated | 38,52      | 23,81              |\n",
    "| Subordinated        | 32,74      | 20,18              |\n",
    "| Junior Subordinated | 17,09      | 10,90              |\n",
    "\n",
    "The aim of the exercice is to compute the Credit VaR with this new hypothethis, and to deduce the risk associated to considering it constant."
   ]
  },
  {
   "cell_type": "markdown",
   "metadata": {},
   "source": [
    "### Recovery - Seniority Class"
   ]
  },
  {
   "cell_type": "code",
   "execution_count": 58,
   "metadata": {},
   "outputs": [],
   "source": [
    "seniority_recovery = {}\n",
    "seniority_recovery['Senior Secured'] = [53.80, 26.86]\n",
    "seniority_recovery['Senior Unsecured'] = [51.13, 25.45]\n",
    "seniority_recovery['Senior Subordinated'] = [38.52, 23.81]\n",
    "seniority_recovery['Subordinated'] = [32.74, 20.18]\n",
    "seniority_recovery['Junior Subordinated'] = [17.09, 10.90]"
   ]
  },
  {
   "cell_type": "code",
   "execution_count": 59,
   "metadata": {},
   "outputs": [],
   "source": [
    "seniority_recovery_zero_std = {}\n",
    "seniority_recovery_zero_std['Senior Secured'] = [53.80, 0.0]\n",
    "seniority_recovery_zero_std['Senior Unsecured'] = [51.13, 0.0]\n",
    "seniority_recovery_zero_std['Senior Subordinated'] = [38.52, 0.0]\n",
    "seniority_recovery_zero_std['Subordinated'] = [32.74, 0.0]\n",
    "seniority_recovery_zero_std['Junior Subordinated'] = [17.09, 0.0]"
   ]
  },
  {
   "cell_type": "markdown",
   "metadata": {},
   "source": [
    "### Bond"
   ]
  },
  {
   "cell_type": "code",
   "execution_count": 60,
   "metadata": {},
   "outputs": [],
   "source": [
    "class BondExercice4:\n",
    "    \n",
    "    def __init__(self, rating: str, nominal: float, coupon_rate: float, maturity: int, recovery_rate: float, seniority_class: str):\n",
    "        self.rating = rating\n",
    "        self.nominal = nominal\n",
    "        self.coupon_rate = coupon_rate\n",
    "        self.maturity = maturity\n",
    "        self.recovery_rate = recovery_rate\n",
    "        self.seniority_class = seniority_class"
   ]
  },
  {
   "cell_type": "markdown",
   "metadata": {},
   "source": [
    "### Portfolio Exercice 4"
   ]
  },
  {
   "cell_type": "code",
   "execution_count": 61,
   "metadata": {},
   "outputs": [],
   "source": [
    "bond_1 = BondExercice4(rating='AAA', nominal=7000000, coupon_rate=0.06, maturity=3, recovery_rate=0.00, seniority_class='Senior Secured')\n",
    "bond_2 = BondExercice4(rating='AA', nominal=1000000, coupon_rate=0.065, maturity=4, recovery_rate=0.00, seniority_class='Senior Unsecured')\n",
    "bond_3 = BondExercice4(rating='A', nominal=1000000, coupon_rate=0.07, maturity=3, recovery_rate=0.00, seniority_class='Senior Subordinated')\n",
    "bond_4 = BondExercice4(rating='BBB', nominal=1000000, coupon_rate=0.08, maturity=4, recovery_rate=0.00, seniority_class='Junior Subordinated')\n",
    "bond_5 = BondExercice4(rating='BBB', nominal=1000000, coupon_rate=0.08, maturity=3, recovery_rate=0.00, seniority_class='Junior Subordinated')\n",
    "bond_6 = BondExercice4(rating='B', nominal=1000000, coupon_rate=0.10, maturity=4, recovery_rate=0.00, seniority_class='Junior Subordinated')\n",
    "bond_7 = BondExercice4(rating='CCC', nominal=1000000, coupon_rate=0.10, maturity=2, recovery_rate=0.00, seniority_class='Junior Subordinated')\n",
    "bond_8 = BondExercice4(rating='A', nominal=10000000, coupon_rate=0.05, maturity=8, recovery_rate=0.00, seniority_class='Senior Secured')\n",
    "bond_9 = BondExercice4(rating='BB', nominal=5000000, coupon_rate=0.06, maturity=2, recovery_rate=0.00, seniority_class='Subordinated')\n",
    "bond_10 = BondExercice4(rating='A', nominal=3000000, coupon_rate=0.06, maturity=2, recovery_rate=0.00, seniority_class='Senior Secured')\n",
    "bond_11 = BondExercice4(rating='A', nominal=1000000, coupon_rate=0.06, maturity=4, recovery_rate=0.00, seniority_class='Senior Secured')\n",
    "bond_12 = BondExercice4(rating='A', nominal=2000000, coupon_rate=0.065, maturity=5, recovery_rate=0.00, seniority_class='Senior Secured')\n",
    "bond_13 = BondExercice4(rating='B', nominal=600000, coupon_rate=0.08, maturity=3, recovery_rate=0.00, seniority_class='Junior Subordinated')\n",
    "bond_14 = BondExercice4(rating='B', nominal=1000000, coupon_rate=0.08, maturity=2, recovery_rate=0.00, seniority_class='Junior Subordinated')\n",
    "bond_15 = BondExercice4(rating='B', nominal=3000000, coupon_rate=0.08, maturity=2, recovery_rate=0.00, seniority_class='Junior Subordinated')\n",
    "bond_16 = BondExercice4(rating='B', nominal=2000000, coupon_rate=0.08, maturity=4, recovery_rate=0.00, seniority_class='Junior Subordinated')\n",
    "bond_17 = BondExercice4(rating='BBB', nominal=1000000, coupon_rate=0.10, maturity=6, recovery_rate=0.00, seniority_class='Subordinated')\n",
    "bond_18 = BondExercice4(rating='BBB', nominal=8000000, coupon_rate=0.10, maturity=5, recovery_rate=0.00, seniority_class='Subordinated')\n",
    "bond_19 = BondExercice4(rating='BBB', nominal=1000000, coupon_rate=0.10, maturity=3, recovery_rate=0.00, seniority_class='Subordinated')\n",
    "bond_20 = BondExercice4(rating='AA', nominal=5000000, coupon_rate=0.05, maturity=5, recovery_rate=0.00, seniority_class='Senior Secured')\n",
    "portfolio_exercice_4 = Portfolio(list_derivatives=[bond_1, bond_2, bond_3, bond_4, bond_5, bond_6, bond_7,\n",
    "                                                  bond_8, bond_9, bond_10, bond_11, bond_12, bond_13, bond_14,\n",
    "                                                  bond_15, bond_16, bond_17, bond_18, bond_19, bond_20])"
   ]
  },
  {
   "cell_type": "markdown",
   "metadata": {},
   "source": [
    "### Credit Value at Risk"
   ]
  },
  {
   "cell_type": "code",
   "execution_count": 62,
   "metadata": {},
   "outputs": [],
   "source": [
    "class CreditVarEngineExercie4:\n",
    "    \n",
    "    def __init__(self):\n",
    "        self.rating = ['AAA', 'AA', 'A', 'BBB', 'BB', 'B', 'CCC', 'Default']\n",
    "    \n",
    "    def compute(self, portfolio: Portfolio, model: BondValuationModel, forward_market: Market, horizon: int, probability: float, cov_matrix: np.ndarray, nb_simulations: int, transition_thresholds: dict, seniority_recovery: dict):\n",
    "        portfolio = deepcopy(portfolio)\n",
    "        portfolio = self.update_maturity(portfolio, horizon)\n",
    "        scenarios = self.generate_scenarios(portfolio, cov_matrix, nb_simulations, transition_thresholds)\n",
    "        recovery_scenarios = self.generate_recovery_scenarios(seniority_recovery, nb_simulations)\n",
    "        scenarios_valuation = self.valuate_scenarios(scenarios=scenarios, model=model, horizon=horizon, market=forward_market, portfolio=portfolio, recovery_scenarios=recovery_scenarios)\n",
    "        return self.evaluate_credit_var(scenarios_valuation, probability)\n",
    "    \n",
    "    def update_maturity(self, portfolio: Portfolio, horizon: int):\n",
    "        portfolio_temp = deepcopy(portfolio)\n",
    "        for bond in portfolio.list_derivatives:\n",
    "            bond.maturity -= horizon\n",
    "        return portfolio_temp\n",
    "    \n",
    "    \n",
    "    # Scenarios generation\n",
    "    \n",
    "    def generate_scenarios(self, portfolio: Portfolio, cov_matrix: np.ndarray, nb_simulations: int, transition_thresholds: dict):\n",
    "        mean_vector = np.array([[0] for i in range(len(portfolio.list_derivatives))])\n",
    "        #gaussians_correlated = np.random.multivariate_normal(mean_vector, cov_vector, nb_simulations)\n",
    "        gaussians_correlated = self.__generate_gaussian_correlated(nb_simulations, len(portfolio.list_derivatives), mean_vector, cov_matrix)\n",
    "        gaussians_correlated = gaussians_correlated.T\n",
    "        list_scenarios_rating = self.__generate_list_scenarios_rating(gaussians_correlated, transition_thresholds, portfolio)\n",
    "        return self.__generate_list_portfolios(list_scenarios_rating, portfolio)\n",
    "    \n",
    "    def __generate_gaussian_correlated(self, nb_simulations: int, nb_dimension: int, mean_vector: np.ndarray, cov_vector: np.ndarray):\n",
    "        L = np.linalg.cholesky(cov_vector)\n",
    "        X = np.random.normal(size=(nb_dimension, nb_simulations))\n",
    "        return L.dot(X) + mean_vector\n",
    "    \n",
    "    def __generate_list_scenarios_rating(self, gaussians_correlated, transition_thresholds, portfolio: Portfolio):\n",
    "        ratings = []\n",
    "        for correlated_vector in gaussians_correlated:\n",
    "            ratings.append(self.__from_random_variables_to_ratings(gaussian_vector=correlated_vector, transition_thresholds=transition_thresholds, portfolio=portfolio))\n",
    "        return ratings\n",
    "    \n",
    "    def __from_random_variables_to_ratings(self, gaussian_vector, transition_thresholds: dict, portfolio: Portfolio):\n",
    "        one_rating_scenarios = []\n",
    "        i = 0\n",
    "        for random_variable in gaussian_vector:\n",
    "            if random_variable > transition_thresholds[portfolio.list_derivatives[i].rating][0]:\n",
    "                one_rating_scenarios.append('AAA')\n",
    "            elif random_variable > transition_thresholds[portfolio.list_derivatives[i].rating][1]:\n",
    "                one_rating_scenarios.append('AA')\n",
    "            elif random_variable > transition_thresholds[portfolio.list_derivatives[i].rating][2]:\n",
    "                one_rating_scenarios.append('A')\n",
    "            elif random_variable > transition_thresholds[portfolio.list_derivatives[i].rating][3]:\n",
    "                one_rating_scenarios.append('BBB')\n",
    "            elif random_variable > transition_thresholds[portfolio.list_derivatives[i].rating][4]:\n",
    "                one_rating_scenarios.append('BB')\n",
    "            elif random_variable > transition_thresholds[portfolio.list_derivatives[i].rating][5]:\n",
    "                one_rating_scenarios.append('B')\n",
    "            elif random_variable > transition_thresholds[portfolio.list_derivatives[i].rating][6]:\n",
    "                one_rating_scenarios.append('CCC')\n",
    "            else:\n",
    "                one_rating_scenarios.append('Default')\n",
    "            i+=1\n",
    "        return one_rating_scenarios\n",
    "    \n",
    "    def __generate_list_portfolios(self, list_possible_rating: list, portfolio: Portfolio):\n",
    "        scenarios = []\n",
    "        for scenario in list_possible_rating:\n",
    "            scenarios.append(self.__create_portfolio_scenario(scenario, portfolio))\n",
    "        return scenarios\n",
    "            \n",
    "    def __create_portfolio_scenario(self, ratings_scenario: list, portfolio: Portfolio):\n",
    "        portfolio_temp = deepcopy(portfolio)\n",
    "        for i in range(len(ratings_scenario)):\n",
    "            portfolio_temp.list_derivatives[i].rating = ratings_scenario[i]\n",
    "        return portfolio_temp\n",
    "    \n",
    "    def generate_recovery_scenarios(self, seniority_recovery: dict, nb_simulations: int):\n",
    "        mean_vector = []\n",
    "        std_dev_vector = []\n",
    "        for seniorty in seniority_recovery.keys():\n",
    "            mean_vector.append(seniority_recovery[seniorty][0]/100)\n",
    "            std_dev_vector.append(seniority_recovery[seniorty][1]/100)\n",
    "        return np.random.normal(0, 1, (nb_simulations, len(seniority_recovery))) * np.array(std_dev_vector) + np.array(mean_vector)\n",
    "        \n",
    "\n",
    "    # Scenarios valuation - grid approach\n",
    "    \n",
    "    def valuate_scenarios(self, scenarios: list, model: BondValuationModel, market: Market, horizon: int, portfolio: Portfolio, recovery_scenarios: np.ndarray):\n",
    "        cash_flows = self.__compute_cash_flows(portfolio, horizon)\n",
    "        valuations = []\n",
    "        i = 0\n",
    "        for scena in scenarios:\n",
    "            valuations.append(self.__valuate_one_scenario(portfolio=scena, model=model, market=market, recovery_one_scenario=recovery_scenarios[i]) + cash_flows)\n",
    "            i += 1\n",
    "        return valuations\n",
    "            \n",
    "    def __valuate_one_scenario(self, portfolio: Portfolio, model: BondValuationModel, market: Market, recovery_one_scenario: np.ndarray):\n",
    "        value = 0.0\n",
    "        for bond in portfolio.list_derivatives:\n",
    "            bond = self.change_recovery_rate(bond, recovery_one_scenario)\n",
    "            value += model.price(bond, market.get_market_data(bond.rating))\n",
    "        return value\n",
    "    \n",
    "    def change_recovery_rate(self, bond: Bond, recovery_one_scenario: np.ndarray):\n",
    "        if bond.seniority_class=='Senior Secured':\n",
    "            bond.recovery_rate = recovery_one_scenario[0]\n",
    "        elif bond.seniority_class=='Senior Unsecured':\n",
    "            bond.recovery_rate = recovery_one_scenario[1]\n",
    "        elif bond.seniority_class=='Senior Subordinated':\n",
    "            bond.recovery_rate = recovery_one_scenario[2]\n",
    "        elif bond.seniority_class=='Subordinated':\n",
    "            bond.recovery_rate = recovery_one_scenario[3]\n",
    "        elif bond.seniority_class=='Junior Subordinated':\n",
    "            bond.recovery_rate = recovery_one_scenario[4]\n",
    "        else:\n",
    "            raise ValueError('The seniority_class is not valid.')\n",
    "        return bond\n",
    "    \n",
    "    def __compute_cash_flows(self, portfolio: Portfolio, horizon: int):\n",
    "        cash = 0.0\n",
    "        for bond in portfolio.list_derivatives:\n",
    "            cash += bond.coupon_rate * bond.nominal * horizon\n",
    "        return cash\n",
    "    \n",
    "    \n",
    "    # Credit Value at Risk computation\n",
    "    \n",
    "    def evaluate_credit_var(self, scenarios_values: list, percentage_var: float):\n",
    "        quantile = self.compute_quantile(scenarios_values, percentage_var)\n",
    "        expectation = self.compute_expectation(scenarios_values)\n",
    "        return expectation - quantile\n",
    "    \n",
    "    def compute_quantile(self, scenarios_values: list, percentage_var: float):\n",
    "        return np.quantile(scenarios_values, 1-percentage_var)\n",
    "    \n",
    "    def compute_proxy_credit_var(self, scenarios_values: list, percentage_var: float):\n",
    "        return norm.ppf(percentage_var) * self.compute_standard_deviation(scenarios_values)\n",
    "                \n",
    "    def compute_expectation(self, scenarios_values: list):\n",
    "        return np.mean(scenarios_values)\n",
    "    \n",
    "    def compute_standard_deviation(self, scenarios_values: list):\n",
    "        return np.std(scenarios_values)"
   ]
  },
  {
   "cell_type": "code",
   "execution_count": 63,
   "metadata": {},
   "outputs": [],
   "source": [
    "var_engine_exercice_4 = CreditVarEngineExercie4()"
   ]
  },
  {
   "cell_type": "code",
   "execution_count": 64,
   "metadata": {},
   "outputs": [
    {
     "data": {
      "text/plain": [
       "4845537.042670183"
      ]
     },
     "execution_count": 64,
     "metadata": {},
     "output_type": "execute_result"
    }
   ],
   "source": [
    "var_engine_exercice_4.compute(portfolio=portfolio_exercice_4, \n",
    "                              model=model, \n",
    "                              forward_market=forward_market_exercice_3, \n",
    "                              horizon=1, \n",
    "                              probability=0.99,\n",
    "                              cov_matrix=covariance_exercice_3,\n",
    "                              nb_simulations=20000,\n",
    "                              transition_thresholds=transition_thresholds_exercice_3,\n",
    "                              seniority_recovery=seniority_recovery\n",
    "                             )"
   ]
  },
  {
   "cell_type": "code",
   "execution_count": 65,
   "metadata": {},
   "outputs": [],
   "source": [
    "var_recovery_without_std = var_engine_exercice_4.compute(portfolio=portfolio_exercice_4, \n",
    "                              model=model, \n",
    "                              forward_market=forward_market_exercice_3, \n",
    "                              horizon=1, \n",
    "                              probability=0.99,\n",
    "                              cov_matrix=covariance_exercice_3,\n",
    "                              nb_simulations=20000,\n",
    "                              transition_thresholds=transition_thresholds_exercice_3,\n",
    "                              seniority_recovery=seniority_recovery_zero_std\n",
    "                             )"
   ]
  },
  {
   "cell_type": "code",
   "execution_count": 66,
   "metadata": {},
   "outputs": [
    {
     "data": {
      "text/plain": [
       "4767307.471524641"
      ]
     },
     "execution_count": 66,
     "metadata": {},
     "output_type": "execute_result"
    }
   ],
   "source": [
    "var_recovery_without_std"
   ]
  },
  {
   "cell_type": "code",
   "execution_count": 67,
   "metadata": {},
   "outputs": [],
   "source": [
    "portfolio_temp = var_engine_exercice_4.update_maturity(portfolio_exercice_4, 1)\n",
    "scenarios_exercice_4 = var_engine_exercice_4.generate_scenarios(portfolio=portfolio_exercice_4, cov_matrix=covariance_exercice_3, nb_simulations=20000, transition_thresholds=transition_thresholds_exercice_3)\n",
    "recovery_scenarios_exercice_4 = var_engine_exercice_4.generate_recovery_scenarios(seniority_recovery, 20000)\n",
    "scenarios_values_exercice_4 = var_engine_exercice_4.valuate_scenarios(scenarios=scenarios_exercice_4, model=model, horizon=1, market=forward_market_exercice_3, portfolio=portfolio_exercice_4, recovery_scenarios=recovery_scenarios_exercice_4)\n",
    "expectation_exercice_4 = var_engine_exercice_4.compute_expectation(scenarios_values_exercice_4)\n",
    "standard_dev_exercice_4 = var_engine_exercice_4.compute_standard_deviation(scenarios_values_exercice_4)\n",
    "quantile_exercice_4 = var_engine_exercice_4.compute_quantile(scenarios_values_exercice_4, 0.99)\n",
    "credit_var_exercice_4 = var_engine_exercice_4.evaluate_credit_var(scenarios_values_exercice_4, 0.99)\n",
    "proxy_credit_var_exercice_4 = var_engine_exercice_4.compute_proxy_credit_var(scenarios_values_exercice_4, 0.99)"
   ]
  },
  {
   "cell_type": "code",
   "execution_count": 68,
   "metadata": {},
   "outputs": [
    {
     "name": "stdout",
     "output_type": "stream",
     "text": [
      "Expectation: 61671858\n",
      "Standard Deviation: 1229191\n",
      "Quantile: 56753897\n",
      "Credit Value at Risk: 4917961\n",
      "Proxy: 2859527\n",
      "Approximated risk due to the stochastic recovery rate: 150653\n"
     ]
    }
   ],
   "source": [
    "print('Expectation:', int(expectation_exercice_4))\n",
    "print('Standard Deviation:', int(standard_dev_exercice_4))\n",
    "print('Quantile:', int(quantile_exercice_4))\n",
    "print('Credit Value at Risk:', int(credit_var_exercice_4))\n",
    "print('Proxy:', int(proxy_credit_var_exercice_4))\n",
    "print('Approximated risk due to the stochastic recovery rate:', int(credit_var_exercice_4-var_recovery_without_std))"
   ]
  },
  {
   "cell_type": "code",
   "execution_count": null,
   "metadata": {},
   "outputs": [],
   "source": []
  },
  {
   "cell_type": "code",
   "execution_count": null,
   "metadata": {},
   "outputs": [],
   "source": []
  },
  {
   "cell_type": "code",
   "execution_count": null,
   "metadata": {},
   "outputs": [],
   "source": []
  },
  {
   "cell_type": "code",
   "execution_count": null,
   "metadata": {},
   "outputs": [],
   "source": []
  }
 ],
 "metadata": {
  "kernelspec": {
   "display_name": "Python 3 (ipykernel)",
   "language": "python",
   "name": "python3"
  },
  "language_info": {
   "codemirror_mode": {
    "name": "ipython",
    "version": 3
   },
   "file_extension": ".py",
   "mimetype": "text/x-python",
   "name": "python",
   "nbconvert_exporter": "python",
   "pygments_lexer": "ipython3",
   "version": "3.9.12"
  }
 },
 "nbformat": 4,
 "nbformat_minor": 4
}
